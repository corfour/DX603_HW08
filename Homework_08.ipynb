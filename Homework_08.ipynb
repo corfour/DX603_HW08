{
 "cells": [
  {
   "cell_type": "markdown",
   "metadata": {},
   "source": [
    "## Homework 08: Classification\n",
    "\n",
    "**Due:** Midnight on July 6th, BUT no late points will be charged if you get it in by the last late deadline. \n",
    "\n",
    "### Overview\n",
    "\n",
    "In this final homework before starting our course project, we will introduce the essential machine learning paradigm of **classification**. We will work with the **UCI Adult** dataset. This is a binary classification task.\n",
    "\n",
    "As we’ve discussed in this week’s lessons, the classification workflow is similar to what we’ve done for regression, with a few key differences:\n",
    "- We use `StratifiedKFold` instead of plain `KFold` so that every fold keeps the original class proportions.\n",
    "- We use classification metrics (e.g., accuracy, precision, recall, F1-score for binary classification) instead of regression metrics.\n",
    "- We could explore misclassified instances through a confusion matrix (though we will not do that in this homework).\n",
    "\n",
    "For this assignment, you’ll build a gradient boosting classification using `HistGradientBoostingClassifier` (HGBC) and explore ways of tuning the hyperparameters, including using the technique of early stopping, which basically avoiding have to tune the number of estimators (called `max_iter` in HGBC). \n",
    "\n",
    "HGBC has many advantages, which we explain below. \n",
    "\n",
    "\n",
    "### Grading\n",
    "\n",
    "There are 7 graded problems, each worth 7 points, and you get 1 point free if you complete the assignment. "
   ]
  },
  {
   "cell_type": "code",
   "execution_count": 4,
   "metadata": {},
   "outputs": [
    {
     "name": "stdout",
     "output_type": "stream",
     "text": [
      "Requirement already satisfied: tqdm in /usr/local/python/3.12.1/lib/python3.12/site-packages (4.67.1)\n",
      "Collecting optuna\n",
      "  Downloading optuna-4.4.0-py3-none-any.whl.metadata (17 kB)\n",
      "Collecting alembic>=1.5.0 (from optuna)\n",
      "  Downloading alembic-1.16.2-py3-none-any.whl.metadata (7.3 kB)\n",
      "Collecting colorlog (from optuna)\n",
      "  Downloading colorlog-6.9.0-py3-none-any.whl.metadata (10 kB)\n",
      "Requirement already satisfied: numpy in /home/codespace/.local/lib/python3.12/site-packages (from optuna) (2.2.6)\n",
      "Requirement already satisfied: packaging>=20.0 in /home/codespace/.local/lib/python3.12/site-packages (from optuna) (25.0)\n",
      "Collecting sqlalchemy>=1.4.2 (from optuna)\n",
      "  Downloading sqlalchemy-2.0.41-cp312-cp312-manylinux_2_17_x86_64.manylinux2014_x86_64.whl.metadata (9.6 kB)\n",
      "Requirement already satisfied: tqdm in /usr/local/python/3.12.1/lib/python3.12/site-packages (from optuna) (4.67.1)\n",
      "Requirement already satisfied: PyYAML in /home/codespace/.local/lib/python3.12/site-packages (from optuna) (6.0.2)\n",
      "Collecting Mako (from alembic>=1.5.0->optuna)\n",
      "  Downloading mako-1.3.10-py3-none-any.whl.metadata (2.9 kB)\n",
      "Requirement already satisfied: typing-extensions>=4.12 in /home/codespace/.local/lib/python3.12/site-packages (from alembic>=1.5.0->optuna) (4.13.2)\n",
      "Collecting greenlet>=1 (from sqlalchemy>=1.4.2->optuna)\n",
      "  Downloading greenlet-3.2.3-cp312-cp312-manylinux_2_24_x86_64.manylinux_2_28_x86_64.whl.metadata (4.1 kB)\n",
      "Requirement already satisfied: MarkupSafe>=0.9.2 in /home/codespace/.local/lib/python3.12/site-packages (from Mako->alembic>=1.5.0->optuna) (3.0.2)\n",
      "Downloading optuna-4.4.0-py3-none-any.whl (395 kB)\n",
      "Downloading alembic-1.16.2-py3-none-any.whl (242 kB)\n",
      "Downloading sqlalchemy-2.0.41-cp312-cp312-manylinux_2_17_x86_64.manylinux2014_x86_64.whl (3.3 MB)\n",
      "\u001b[2K   \u001b[90m━━━━━━━━━━━━━━━━━━━━━━━━━━━━━━━━━━━━━━━━\u001b[0m \u001b[32m3.3/3.3 MB\u001b[0m \u001b[31m40.3 MB/s\u001b[0m eta \u001b[36m0:00:00\u001b[0m\n",
      "\u001b[?25hDownloading greenlet-3.2.3-cp312-cp312-manylinux_2_24_x86_64.manylinux_2_28_x86_64.whl (605 kB)\n",
      "\u001b[2K   \u001b[90m━━━━━━━━━━━━━━━━━━━━━━━━━━━━━━━━━━━━━━━━\u001b[0m \u001b[32m605.5/605.5 kB\u001b[0m \u001b[31m24.4 MB/s\u001b[0m eta \u001b[36m0:00:00\u001b[0m\n",
      "\u001b[?25hDownloading colorlog-6.9.0-py3-none-any.whl (11 kB)\n",
      "Downloading mako-1.3.10-py3-none-any.whl (78 kB)\n",
      "Installing collected packages: Mako, greenlet, colorlog, sqlalchemy, alembic, optuna\n",
      "\u001b[2K   \u001b[90m━━━━━━━━━━━━━━━━━━━━━━━━━━━━━━━━━━━━━━━━\u001b[0m \u001b[32m6/6\u001b[0m [optuna]2m5/6\u001b[0m [optuna]]my]\n",
      "\u001b[1A\u001b[2KSuccessfully installed Mako-1.3.10 alembic-1.16.2 colorlog-6.9.0 greenlet-3.2.3 optuna-4.4.0 sqlalchemy-2.0.41\n"
     ]
    },
    {
     "name": "stderr",
     "output_type": "stream",
     "text": [
      "/home/codespace/.python/current/lib/python3.12/site-packages/tqdm/auto.py:21: TqdmWarning: IProgress not found. Please update jupyter and ipywidgets. See https://ipywidgets.readthedocs.io/en/stable/user_install.html\n",
      "  from .autonotebook import tqdm as notebook_tqdm\n"
     ]
    }
   ],
   "source": [
    "!pip install tqdm\n",
    "!pip install optuna\n",
    "# General utilities\n",
    "import os\n",
    "import io\n",
    "import time\n",
    "import zipfile\n",
    "import requests\n",
    "from collections import Counter\n",
    "\n",
    "# Data handling and visualization\n",
    "import numpy as np\n",
    "import pandas as pd\n",
    "import matplotlib.pyplot as plt\n",
    "from tqdm import tqdm\n",
    "from IPython.display import display\n",
    " \n",
    "# Data source\n",
    "from sklearn.datasets import fetch_openml\n",
    "\n",
    " \n",
    "# scikit-learn core tools \n",
    "from sklearn.model_selection import (\n",
    "    train_test_split,\n",
    "    cross_val_score,\n",
    "    StratifiedKFold,\n",
    "    RandomizedSearchCV\n",
    ")\n",
    "\n",
    "from sklearn.pipeline import Pipeline\n",
    "from sklearn.compose import ColumnTransformer\n",
    "from sklearn.preprocessing import OrdinalEncoder\n",
    "\n",
    " \n",
    "# Import model \n",
    "from sklearn.ensemble import HistGradientBoostingClassifier\n",
    " \n",
    "# Metrics\n",
    "from sklearn.metrics import balanced_accuracy_score, classification_report\n",
    " \n",
    "# Distributions for random search\n",
    "from scipy.stats import loguniform, randint, uniform\n",
    "\n",
    "# pandas dtypes helpers\n",
    "from pandas.api.types import is_numeric_dtype, is_categorical_dtype\n",
    "from pandas import CategoricalDtype\n",
    "\n",
    "# Optuna Hyperparameter Search tool    (may need to be installed)\n",
    "import optuna\n",
    "\n",
    "\n",
    "# Misc\n",
    "\n",
    "random_seed = 42\n",
    "\n",
    "def format_hms(seconds):\n",
    "    return time.strftime(\"%H:%M:%S\", time.gmtime(seconds))\n",
    "\n"
   ]
  },
  {
   "cell_type": "markdown",
   "metadata": {},
   "source": [
    "### Prelude 1: Load and Preprocess the UCI Adult Income Dataset\n",
    "\n",
    "- Load the dataset from sklearn\n",
    "- Preliminary EDA\n",
    "- Feature Engineering "
   ]
  },
  {
   "cell_type": "code",
   "execution_count": 5,
   "metadata": {},
   "outputs": [
    {
     "name": "stdout",
     "output_type": "stream",
     "text": [
      "<class 'pandas.core.frame.DataFrame'>\n",
      "RangeIndex: 48842 entries, 0 to 48841\n",
      "Data columns (total 15 columns):\n",
      " #   Column          Non-Null Count  Dtype   \n",
      "---  ------          --------------  -----   \n",
      " 0   age             48842 non-null  int64   \n",
      " 1   workclass       46043 non-null  category\n",
      " 2   fnlwgt          48842 non-null  int64   \n",
      " 3   education       48842 non-null  category\n",
      " 4   education-num   48842 non-null  int64   \n",
      " 5   marital-status  48842 non-null  category\n",
      " 6   occupation      46033 non-null  category\n",
      " 7   relationship    48842 non-null  category\n",
      " 8   race            48842 non-null  category\n",
      " 9   sex             48842 non-null  category\n",
      " 10  capital-gain    48842 non-null  int64   \n",
      " 11  capital-loss    48842 non-null  int64   \n",
      " 12  hours-per-week  48842 non-null  int64   \n",
      " 13  native-country  47985 non-null  category\n",
      " 14  class           48842 non-null  category\n",
      "dtypes: category(9), int64(6)\n",
      "memory usage: 2.7 MB\n"
     ]
    }
   ],
   "source": [
    "# Load and clean\n",
    "df = fetch_openml(name='adult', version=2, as_frame=True).frame\n",
    "\n",
    "df.replace(\"?\", np.nan, inplace=True)            # Some datasets use ? instead of Nan for missing data\n",
    "\n",
    "df.info()"
   ]
  },
  {
   "cell_type": "markdown",
   "metadata": {},
   "source": [
    "#### Check: Is the dataset imbalanced?"
   ]
  },
  {
   "cell_type": "code",
   "execution_count": 6,
   "metadata": {},
   "outputs": [
    {
     "name": "stdout",
     "output_type": "stream",
     "text": [
      "class\n",
      "<=50K    0.760718\n",
      ">50K     0.239282\n",
      "Name: proportion, dtype: float64\n"
     ]
    }
   ],
   "source": [
    "print(df['class'].value_counts(normalize=True))"
   ]
  },
  {
   "cell_type": "markdown",
   "metadata": {},
   "source": [
    "**YES:** It looks like this dataset is somewhat imbalanced. Therefore, we will \n",
    "1. Tell the model to compensate during training by setting `class_weight='balanced'` when defining the model;\n",
    "2. Evaluate it `balanced_accuracy` instead of `accuracy` and with class-aware metrics (precision, recall, F1); and\n",
    "3. [Optional] Adjust the probability threshold instead of relying on raw accuracy alone after examining the precision-recall trade-off you observe at 0.5.\n",
    "    "
   ]
  },
  {
   "cell_type": "markdown",
   "metadata": {},
   "source": [
    "### Feature Engineering\n",
    "\n",
    "Based on the considerations in **Appendix One**, we'll make the following changes to the dataset to facilitate training:\n",
    "\n",
    "\n",
    "1. Drop `fnlwgt` and `education`.   \n",
    "3. Replace `capital-gain` and `capital-loss` by their difference `capital_net` and add a log-scaled version `capital_net_log`.\n"
   ]
  },
  {
   "cell_type": "code",
   "execution_count": 7,
   "metadata": {},
   "outputs": [
    {
     "name": "stdout",
     "output_type": "stream",
     "text": [
      "<class 'pandas.core.frame.DataFrame'>\n",
      "RangeIndex: 48842 entries, 0 to 48841\n",
      "Data columns (total 13 columns):\n",
      " #   Column           Non-Null Count  Dtype   \n",
      "---  ------           --------------  -----   \n",
      " 0   age              48842 non-null  int64   \n",
      " 1   workclass        46043 non-null  category\n",
      " 2   education-num    48842 non-null  int64   \n",
      " 3   marital-status   48842 non-null  category\n",
      " 4   occupation       46033 non-null  category\n",
      " 5   relationship     48842 non-null  category\n",
      " 6   race             48842 non-null  category\n",
      " 7   sex              48842 non-null  category\n",
      " 8   hours-per-week   48842 non-null  int64   \n",
      " 9   native-country   47985 non-null  category\n",
      " 10  class            48842 non-null  category\n",
      " 11  capital_net      48842 non-null  int64   \n",
      " 12  capital_net_log  48842 non-null  float64 \n",
      "dtypes: category(8), float64(1), int64(4)\n",
      "memory usage: 2.2 MB\n"
     ]
    }
   ],
   "source": [
    "# Drop the survey-weight column\n",
    "df_eng = df.drop(columns=[\"fnlwgt\"])\n",
    "\n",
    "# Keep only the ordinal education feature\n",
    "df_eng = df_eng.drop(columns=[\"education\"])      # retain 'education-num'\n",
    "\n",
    "# Combine capital gains and losses, add a log-scaled variant\n",
    "df_eng[\"capital_net\"]     = df_eng[\"capital-gain\"] - df_eng[\"capital-loss\"]\n",
    "df_eng[\"capital_net_log\"] = np.log1p(df_eng[\"capital_net\"].clip(lower=0))\n",
    "df_eng = df_eng.drop(columns=[\"capital-gain\", \"capital-loss\"])\n",
    "\n",
    "# check\n",
    "df_eng.info()"
   ]
  },
  {
   "cell_type": "markdown",
   "metadata": {},
   "source": [
    "#### Separate target and split\n",
    "\n",
    "Create the feature set `X` and the target set `y` (using `class` as the target) and split the dataset into 80% training and 20% testing sets, making sure to stratify."
   ]
  },
  {
   "cell_type": "code",
   "execution_count": 8,
   "metadata": {},
   "outputs": [
    {
     "name": "stdout",
     "output_type": "stream",
     "text": [
      "Train: (39073, 12) (39073,)\n",
      "Test : (9769, 12) (9769,)\n"
     ]
    }
   ],
   "source": [
    "\n",
    "X = df_eng.drop(columns=[\"class\"])\n",
    "y = (df_eng[\"class\"] == \">50K\").astype(int)\n",
    "\n",
    "# Split (with stratification)\n",
    "X_train, X_test, y_train, y_test = train_test_split(\n",
    "    X, y,\n",
    "    test_size=0.2,\n",
    "    random_state=random_seed,\n",
    "    stratify=y                           # So same proportion of classes in train and test sets\n",
    ")\n",
    "\n",
    "print(\"Train:\", X_train.shape, y_train.shape)\n",
    "print(\"Test :\", X_test.shape,  y_test.shape)"
   ]
  },
  {
   "cell_type": "markdown",
   "metadata": {},
   "source": [
    "### Prelude 2: Create a data pipeline and the `HistGradientBoostingClassifier` model\n",
    "\n",
    "Histogram-based gradient boosting improves on the standard version by:\n",
    "\n",
    "* **Histogram splits:** bins each feature into ≤ `max_bins` quantiles (i.e., each bin is approximately the same size) and tests splits only between bins, slashing compute time and scaling to large data sets. Default for `max_bins` = 255. \n",
    "* **Native NaN handling:** treats missing values as their own bin—no imputation needed.\n",
    "* **Native Categorical Support**: accepts integer-encoded categories directly and tests “category c vs. all others” splits, eliminating one-hot blow-ups and fake orderings.\n",
    "* **Built-in early stopping:** stops training after no improvement in validation loss after `n_iter_no_change` rounds. `tol` defines \"improvement\" (default is 1e-7). \n",
    "* **Leaf shrinkage:** adds `l2_regularization`, which ridge-shrinks each leaf value (without changing tree shape) so tiny, noisy leaves have less effect.\n",
    "\n",
    ">**Summary:**  Histogram-based GB trades a tiny approximation error (binning) for a **huge speed-up** and adds extra conveniences, making it the preferred choice for large tabular data sets. Tuning workflow relies on **Early stopping** to stop training before overfitting occurs. "
   ]
  },
  {
   "cell_type": "code",
   "execution_count": 9,
   "metadata": {},
   "outputs": [],
   "source": [
    "# Define a baseline model \n",
    "\n",
    "HGBC_model = HistGradientBoostingClassifier(\n",
    "    # tree structure and learning rate\n",
    "    learning_rate=0.1,            # These 5 parameters are at defaults for our baseline training in Problem 1             \n",
    "    max_leaf_nodes=31,            # but will be tuned by randomized search in Problem 2 and Optuna in Problem 3               \n",
    "    max_depth=None,               \n",
    "    min_samples_leaf=20,          \n",
    "    l2_regularization=0.0,        \n",
    "\n",
    "    # bins and iteration\n",
    "    max_bins=255,                 # default\n",
    "    max_iter=500,                 # high enough for early stopping\n",
    "    early_stopping=True,\n",
    "    n_iter_no_change=20,\n",
    "    validation_fraction=0.2,      # 20% monitored for early stopping\n",
    "    tol=1e-7,                     # default tolerance for validation improvement\n",
    "\n",
    "    # class imbalance\n",
    "    class_weight=\"balanced\",\n",
    "\n",
    "    random_state=random_seed,\n",
    "    verbose=0\n",
    ")\n"
   ]
  },
  {
   "cell_type": "markdown",
   "metadata": {},
   "source": [
    "### Create a pipeline appropriate for HGBC \n",
    "\n",
    "**Why use a `Pipeline` instead of encoding in the dataset first?**\n",
    "\n",
    "* **Avoid data leakage.** In each CV fold, the `OrdinalEncoder` is refit only on that fold’s training data, so the validation split never influences the encoder.\n",
    "* **Single, reusable object.** The pipeline bundles preprocessing + model, letting you call `fit`/`predict` on raw data anywhere (CV, Optuna, production) with identical behavior.\n",
    "* **Compatible with search tools.** `cross_validate`, `GridSearchCV`, and Optuna expect an estimator that can be cloned and refit; a pipeline meets that requirement automatically.\n",
    "\n",
    "Put simply, the pipeline gives you leak-free evaluation and portable, hassle-free tuning without extra code.\n"
   ]
  },
  {
   "cell_type": "code",
   "execution_count": 10,
   "metadata": {},
   "outputs": [],
   "source": [
    "enc = OrdinalEncoder(\n",
    "    handle_unknown=\"use_encoded_value\",   # Allow unseen categories during transform\n",
    "    unknown_value=-1,                     # Code for unseen categories\n",
    "    encoded_missing_value=-2,             # Code for missing values (NaN)\n",
    "    dtype=np.int64                        # Needed for HistGradientBoostingClassifier\n",
    ")\n",
    "\n",
    "# Categorical features\n",
    "cat_cols = X.select_dtypes(exclude=[\"number\"]).columns.tolist()\n",
    "\n",
    "# Numeric features (everything that isn’t object / category)\n",
    "num_cols = X.select_dtypes(include=[\"number\"]).columns.tolist()\n",
    "\n",
    "preprocess = ColumnTransformer(\n",
    "    [(\"cat\", enc, cat_cols),\n",
    "     (\"num\", \"passthrough\", num_cols)]\n",
    ")\n",
    "\n",
    "pipelined_model = Pipeline([\n",
    "    (\"prep\", preprocess),\n",
    "    (\"gb\",   HGBC_model)\n",
    "])"
   ]
  },
  {
   "cell_type": "markdown",
   "metadata": {},
   "source": [
    "## Problem 1: Baseline Cross-Validation with F1\n",
    "\n",
    "In this problem, you will run a baseline cross-validation evaluation of your `HistGradientBoostingClassifier` pipeline, using `HGBC_model` defined above. \n",
    "\n",
    "**Background:**\n",
    "\n",
    "* Since the Adult dataset is imbalanced (about 24% positives, 76% negatives), accuracy alone is not reliable.\n",
    "* We will use the **F1 score** as the evaluation metric, since it balances precision (avoiding false positives) and recall (avoiding false negatives) in a single measure. This is a fairer metric for imbalanced classification, where both types of error matter.\n",
    "* We will apply **5-fold stratified cross-validation** to make sure each fold has the same proportion of the classes as the original dataset.\n",
    "* Repeated cross-validation is optional and not required here, because the Adult dataset is large and `HistGradientBoostingClassifier` is robust to small sampling differences. \n",
    "\n",
    "**Instructions:**\n",
    "\n",
    "1. Set up a `StratifiedKFold` cross-validation object with 5 splits, shuffling enabled, and `random_state=random_seed`.\n",
    "2. Use `cross_val_score` to estimate the mean F1 score and its standard deviation across the folds.\n",
    "3. Print out the mean and standard deviation of the F1 score, rounded to 4 decimal places.\n",
    "4. Answer the graded question.\n"
   ]
  },
  {
   "cell_type": "code",
   "execution_count": null,
   "metadata": {},
   "outputs": [
    {
     "name": "stdout",
     "output_type": "stream",
     "text": [
      "Mean F1 score: 0.7130\n",
      "Std  of F1 score: 0.0056\n"
     ]
    }
   ],
   "source": [
    "# Your code here\n",
    "\n",
    "from sklearn.model_selection import StratifiedKFold, cross_val_score\n",
    "\n",
    "#Set up 5-fold stratified CV\n",
    "cv = StratifiedKFold(n_splits=5, shuffle=True, random_state=random_seed)\n",
    "\n",
    "#Estimate F1 scores\n",
    "f1_scores = cross_val_score(\n",
    "    estimator=HGBC_model,\n",
    "    X=X,\n",
    "    y=y,\n",
    "    scoring='f1',\n",
    "    cv=cv\n",
    ")\n",
    "\n",
    "#Print mean & std \n",
    "print(f\"Mean F1 score: {f1_scores.mean():.4f}\")\n",
    "print(f\"Std  of F1 score: {f1_scores.std():.4f}\")\n",
    "\n"
   ]
  },
  {
   "cell_type": "markdown",
   "metadata": {},
   "source": [
    "### Problem 1 Graded Answer\n",
    "\n",
    "Set `a1` to the mean F1 score of the baseline model. "
   ]
  },
  {
   "cell_type": "code",
   "execution_count": 12,
   "metadata": {},
   "outputs": [],
   "source": [
    " # Your answer here\n",
    "\n",
    "a1 = round(f1_scores.mean(), 4)"
   ]
  },
  {
   "cell_type": "code",
   "execution_count": 13,
   "metadata": {},
   "outputs": [
    {
     "name": "stdout",
     "output_type": "stream",
     "text": [
      "a1 = 0.7130\n"
     ]
    }
   ],
   "source": [
    "# DO NOT change this cell in any way\n",
    "\n",
    "print(f'a1 = {a1:.4f}')"
   ]
  },
  {
   "cell_type": "markdown",
   "metadata": {},
   "source": [
    "## Problem 2: Hyperparameter Optimization with Randomized Search for F1\n",
    "\n",
    "In this problem, you will tune your `pipelined_model` using `RandomizedSearchCV` to identify the best combination of tree structure and learning rate parameters that maximize the **F1 score**.\n",
    "\n",
    "**Background:**\n",
    "The F1 score is our main metric because it balances precision and recall on an imbalanced dataset. Optimizing hyperparameters for F1 ensures we manage both false positives and false negatives in a single measure.\n",
    "\n",
    "**Instructions:**\n",
    "\n",
    "1. Set up a randomized search over the following hyperparameter ranges, using appropriate random-number distributions:\n",
    "\n",
    "   * `learning_rate` (log-uniform between 1e-3 and 0.3)\n",
    "   * `max_leaf_nodes` (integer from 16 to 256)\n",
    "   * `max_depth` (integer from 2 to 10)\n",
    "   * `min_samples_leaf` (integer from 10 to 200)\n",
    "   * `l2_regularization` (uniform between 0.0 and 2.0)\n",
    "2. Use **5-fold stratified cross-validation**, with the same settings as in Problem 1.\n",
    "3. Set `n_iter` to at least 100 trials. More trials will generally yield better results, if your time and machine allow.\n",
    "4. After running the search, show a neatly formatted table of the top 5 results, using `display(...)` showing their mean F1 scores, standard deviation, and the chosen hyperparameter values.\n",
    "5. Answer the graded question.\n",
    "\n",
    "\n"
   ]
  },
  {
   "cell_type": "code",
   "execution_count": 15,
   "metadata": {},
   "outputs": [
    {
     "name": "stdout",
     "output_type": "stream",
     "text": [
      "Fitting 5 folds for each of 100 candidates, totalling 500 fits\n"
     ]
    },
    {
     "data": {
      "text/html": [
       "<div>\n",
       "<style scoped>\n",
       "    .dataframe tbody tr th:only-of-type {\n",
       "        vertical-align: middle;\n",
       "    }\n",
       "\n",
       "    .dataframe tbody tr th {\n",
       "        vertical-align: top;\n",
       "    }\n",
       "\n",
       "    .dataframe thead th {\n",
       "        text-align: right;\n",
       "    }\n",
       "</style>\n",
       "<table border=\"1\" class=\"dataframe\">\n",
       "  <thead>\n",
       "    <tr style=\"text-align: right;\">\n",
       "      <th></th>\n",
       "      <th>mean_test_score</th>\n",
       "      <th>std_test_score</th>\n",
       "      <th>param_gb__l2_regularization</th>\n",
       "      <th>param_gb__learning_rate</th>\n",
       "      <th>param_gb__max_depth</th>\n",
       "      <th>param_gb__max_leaf_nodes</th>\n",
       "      <th>param_gb__min_samples_leaf</th>\n",
       "    </tr>\n",
       "  </thead>\n",
       "  <tbody>\n",
       "    <tr>\n",
       "      <th>59</th>\n",
       "      <td>0.713984</td>\n",
       "      <td>0.004860</td>\n",
       "      <td>1.495438</td>\n",
       "      <td>0.229549</td>\n",
       "      <td>2</td>\n",
       "      <td>61</td>\n",
       "      <td>190</td>\n",
       "    </tr>\n",
       "    <tr>\n",
       "      <th>55</th>\n",
       "      <td>0.713927</td>\n",
       "      <td>0.004683</td>\n",
       "      <td>0.973484</td>\n",
       "      <td>0.175597</td>\n",
       "      <td>3</td>\n",
       "      <td>36</td>\n",
       "      <td>39</td>\n",
       "    </tr>\n",
       "    <tr>\n",
       "      <th>19</th>\n",
       "      <td>0.713154</td>\n",
       "      <td>0.004955</td>\n",
       "      <td>1.829919</td>\n",
       "      <td>0.127541</td>\n",
       "      <td>3</td>\n",
       "      <td>48</td>\n",
       "      <td>57</td>\n",
       "    </tr>\n",
       "    <tr>\n",
       "      <th>99</th>\n",
       "      <td>0.712859</td>\n",
       "      <td>0.005075</td>\n",
       "      <td>1.900124</td>\n",
       "      <td>0.226344</td>\n",
       "      <td>4</td>\n",
       "      <td>126</td>\n",
       "      <td>153</td>\n",
       "    </tr>\n",
       "    <tr>\n",
       "      <th>98</th>\n",
       "      <td>0.712467</td>\n",
       "      <td>0.003557</td>\n",
       "      <td>0.021675</td>\n",
       "      <td>0.174880</td>\n",
       "      <td>10</td>\n",
       "      <td>214</td>\n",
       "      <td>37</td>\n",
       "    </tr>\n",
       "  </tbody>\n",
       "</table>\n",
       "</div>"
      ],
      "text/plain": [
       "    mean_test_score  std_test_score  param_gb__l2_regularization  \\\n",
       "59         0.713984        0.004860                     1.495438   \n",
       "55         0.713927        0.004683                     0.973484   \n",
       "19         0.713154        0.004955                     1.829919   \n",
       "99         0.712859        0.005075                     1.900124   \n",
       "98         0.712467        0.003557                     0.021675   \n",
       "\n",
       "    param_gb__learning_rate  param_gb__max_depth  param_gb__max_leaf_nodes  \\\n",
       "59                 0.229549                    2                        61   \n",
       "55                 0.175597                    3                        36   \n",
       "19                 0.127541                    3                        48   \n",
       "99                 0.226344                    4                       126   \n",
       "98                 0.174880                   10                       214   \n",
       "\n",
       "    param_gb__min_samples_leaf  \n",
       "59                         190  \n",
       "55                          39  \n",
       "19                          57  \n",
       "99                         153  \n",
       "98                          37  "
      ]
     },
     "metadata": {},
     "output_type": "display_data"
    },
    {
     "name": "stdout",
     "output_type": "stream",
     "text": [
      "Best mean F1 (a2): 0.714\n"
     ]
    }
   ],
   "source": [
    "# Your code here\n",
    "\n",
    "from scipy.stats import loguniform, randint, uniform\n",
    "from sklearn.model_selection import RandomizedSearchCV, StratifiedKFold\n",
    "import pandas as pd\n",
    "\n",
    "# 1. Corrected hyperparameter distributions (use 'gb__' prefix)\n",
    "param_dist = {\n",
    "    'gb__learning_rate':     loguniform(1e-3, 0.3),\n",
    "    'gb__max_leaf_nodes':     randint(16, 257),\n",
    "    'gb__max_depth':          randint(2, 11),\n",
    "    'gb__min_samples_leaf':   randint(10, 201),\n",
    "    'gb__l2_regularization':  uniform(0.0, 2.0)\n",
    "}\n",
    "\n",
    "# 2. Same CV as before\n",
    "cv = StratifiedKFold(n_splits=5, shuffle=True, random_state=random_seed)\n",
    "\n",
    "# 3. Set up RandomizedSearchCV\n",
    "rs = RandomizedSearchCV(\n",
    "    estimator=pipelined_model,         # your pipeline\n",
    "    param_distributions=param_dist,\n",
    "    n_iter=100,\n",
    "    scoring='f1',\n",
    "    cv=cv,\n",
    "    random_state=random_seed,\n",
    "    n_jobs=-1,\n",
    "    verbose=1\n",
    ")\n",
    "\n",
    "# 4. Fit\n",
    "rs.fit(X, y)\n",
    "\n",
    "# 5. Display top 5 configurations\n",
    "results = pd.DataFrame(rs.cv_results_)\n",
    "cols = ['mean_test_score', 'std_test_score'] + [c for c in results.columns if c.startswith('param_')]\n",
    "top5 = results[cols].sort_values('mean_test_score', ascending=False).head(5)\n",
    "display(top5)\n",
    "\n",
    "# 6. Assign the best mean F1 to a2\n",
    "a2 = round(rs.best_score_, 4)\n",
    "print(f\"Best mean F1 (a2): {a2}\")\n",
    "\n"
   ]
  },
  {
   "cell_type": "markdown",
   "metadata": {},
   "source": [
    "### Problem 2 Graded Answer\n",
    "\n",
    "Set `a2` to the mean F1 score of the best model found. "
   ]
  },
  {
   "cell_type": "code",
   "execution_count": 16,
   "metadata": {},
   "outputs": [],
   "source": [
    " # Your answer here\n",
    "\n",
    "a2 = round(rs.best_score_, 4)                 # replace 0 with your answer, may copy from the displayed results"
   ]
  },
  {
   "cell_type": "code",
   "execution_count": 17,
   "metadata": {},
   "outputs": [
    {
     "name": "stdout",
     "output_type": "stream",
     "text": [
      "a2 = 0.7140\n"
     ]
    }
   ],
   "source": [
    "# DO NOT change this cell in any way\n",
    "\n",
    "print(f'a2 = {a2:.4f}')"
   ]
  },
  {
   "cell_type": "markdown",
   "metadata": {},
   "source": [
    "## Problem 3: Hyperparameter Optimization with Optuna for F1\n",
    "\n",
    "In this problem, you will explore **Optuna**, a powerful hyperparameter optimization framework, to identify the best combination of hyperparameters that maximize the F1 score of your `pipelined_model`.\n",
    "\n",
    "**Background:**\n",
    "Optuna uses a smarter sampling strategy than grid search or randomized search, allowing you to explore the hyperparameter space more efficiently. It also supports *pruning*, which can stop unpromising trials early to save time. This makes it a popular SOTA optimization tool.\n",
    "\n",
    "**Before you start** browse the [Optuna documentation](https://optuna.org) and view the [tutorial video](https://optuna.readthedocs.io/en/stable/tutorial/index.html). \n",
    "\n",
    "As before, we focus on the **F1 score** because it balances precision and recall, making it more robust on an imbalanced dataset.\n",
    "\n",
    "**Instructions:**\n",
    "\n",
    "1. Define an Optuna objective function to optimize F1 score, sampling the exact same hyperparameter ranges you did in Problem 2 and using the same CV settings.  \n",
    "3. Set up an Optuna study with a reasonable number of trials (e.g., 100–500 depending on runtime resources--on my machine Optuna runs about 10x faster than randomized search for the same number of trials, but YMMV).\n",
    "4. After running the optimization, `display` a clean table with the top 5 trials showing their F1 scores and corresponding hyperparameter settings.\n",
    "5. Answer the graded question. \n",
    "\n",
    "**Note:**  There are many resources on Optuna you can find on the web, but for this problem, you have my permission to let ChatGPT write the code for you. "
   ]
  },
  {
   "cell_type": "code",
   "execution_count": 22,
   "metadata": {},
   "outputs": [
    {
     "name": "stderr",
     "output_type": "stream",
     "text": [
      "[I 2025-07-08 03:41:14,704] A new study created in memory with name: no-name-7eaef0f4-3633-46b2-8e48-0a817eb6ceaa\n",
      "  0%|          | 0/100 [00:00<?, ?it/s]/tmp/ipykernel_7726/1741534080.py:11: FutureWarning: suggest_loguniform has been deprecated in v3.0.0. This feature will be removed in v6.0.0. See https://github.com/optuna/optuna/releases/tag/v3.0.0. Use suggest_float(..., log=True) instead.\n",
      "  'gb__learning_rate':     trial.suggest_loguniform('learning_rate', 1e-3, 0.3),\n",
      "/tmp/ipykernel_7726/1741534080.py:15: FutureWarning: suggest_uniform has been deprecated in v3.0.0. This feature will be removed in v6.0.0. See https://github.com/optuna/optuna/releases/tag/v3.0.0. Use suggest_float instead.\n",
      "  'gb__l2_regularization': trial.suggest_uniform('l2_regularization', 0.0, 2.0)\n",
      "Best trial: 0. Best value: 0.69529:   1%|          | 1/100 [00:17<29:27, 17.85s/it]/tmp/ipykernel_7726/1741534080.py:11: FutureWarning: suggest_loguniform has been deprecated in v3.0.0. This feature will be removed in v6.0.0. See https://github.com/optuna/optuna/releases/tag/v3.0.0. Use suggest_float(..., log=True) instead.\n",
      "  'gb__learning_rate':     trial.suggest_loguniform('learning_rate', 1e-3, 0.3),\n",
      "/tmp/ipykernel_7726/1741534080.py:15: FutureWarning: suggest_uniform has been deprecated in v3.0.0. This feature will be removed in v6.0.0. See https://github.com/optuna/optuna/releases/tag/v3.0.0. Use suggest_float instead.\n",
      "  'gb__l2_regularization': trial.suggest_uniform('l2_regularization', 0.0, 2.0)\n"
     ]
    },
    {
     "name": "stdout",
     "output_type": "stream",
     "text": [
      "[I 2025-07-08 03:41:32,556] Trial 0 finished with value: 0.6952899580869166 and parameters: {'learning_rate': 0.008468008575248327, 'max_leaf_nodes': 245, 'max_depth': 8, 'min_samples_leaf': 124, 'l2_regularization': 0.31203728088487304}. Best is trial 0 with value: 0.6952899580869166.\n"
     ]
    },
    {
     "name": "stderr",
     "output_type": "stream",
     "text": [
      "Best trial: 0. Best value: 0.69529:   2%|▏         | 2/100 [00:32<25:47, 15.79s/it]/tmp/ipykernel_7726/1741534080.py:11: FutureWarning: suggest_loguniform has been deprecated in v3.0.0. This feature will be removed in v6.0.0. See https://github.com/optuna/optuna/releases/tag/v3.0.0. Use suggest_float(..., log=True) instead.\n",
      "  'gb__learning_rate':     trial.suggest_loguniform('learning_rate', 1e-3, 0.3),\n",
      "/tmp/ipykernel_7726/1741534080.py:15: FutureWarning: suggest_uniform has been deprecated in v3.0.0. This feature will be removed in v6.0.0. See https://github.com/optuna/optuna/releases/tag/v3.0.0. Use suggest_float instead.\n",
      "  'gb__l2_regularization': trial.suggest_uniform('l2_regularization', 0.0, 2.0)\n"
     ]
    },
    {
     "name": "stdout",
     "output_type": "stream",
     "text": [
      "[I 2025-07-08 03:41:46,911] Trial 1 finished with value: 0.6746784536793463 and parameters: {'learning_rate': 0.0024345423962016913, 'max_leaf_nodes': 29, 'max_depth': 9, 'min_samples_leaf': 124, 'l2_regularization': 1.416145155592091}. Best is trial 0 with value: 0.6952899580869166.\n"
     ]
    },
    {
     "name": "stderr",
     "output_type": "stream",
     "text": [
      "Best trial: 0. Best value: 0.69529:   3%|▎         | 3/100 [00:56<31:34, 19.54s/it]/tmp/ipykernel_7726/1741534080.py:11: FutureWarning: suggest_loguniform has been deprecated in v3.0.0. This feature will be removed in v6.0.0. See https://github.com/optuna/optuna/releases/tag/v3.0.0. Use suggest_float(..., log=True) instead.\n",
      "  'gb__learning_rate':     trial.suggest_loguniform('learning_rate', 1e-3, 0.3),\n",
      "/tmp/ipykernel_7726/1741534080.py:15: FutureWarning: suggest_uniform has been deprecated in v3.0.0. This feature will be removed in v6.0.0. See https://github.com/optuna/optuna/releases/tag/v3.0.0. Use suggest_float instead.\n",
      "  'gb__l2_regularization': trial.suggest_uniform('l2_regularization', 0.0, 2.0)\n"
     ]
    },
    {
     "name": "stdout",
     "output_type": "stream",
     "text": [
      "[I 2025-07-08 03:42:10,899] Trial 2 finished with value: 0.674860950751756 and parameters: {'learning_rate': 0.001124579825911934, 'max_leaf_nodes': 249, 'max_depth': 9, 'min_samples_leaf': 50, 'l2_regularization': 0.36364993441420124}. Best is trial 0 with value: 0.6952899580869166.\n"
     ]
    },
    {
     "name": "stderr",
     "output_type": "stream",
     "text": [
      "Best trial: 0. Best value: 0.69529:   4%|▍         | 4/100 [01:09<27:23, 17.12s/it]/tmp/ipykernel_7726/1741534080.py:11: FutureWarning: suggest_loguniform has been deprecated in v3.0.0. This feature will be removed in v6.0.0. See https://github.com/optuna/optuna/releases/tag/v3.0.0. Use suggest_float(..., log=True) instead.\n",
      "  'gb__learning_rate':     trial.suggest_loguniform('learning_rate', 1e-3, 0.3),\n",
      "/tmp/ipykernel_7726/1741534080.py:15: FutureWarning: suggest_uniform has been deprecated in v3.0.0. This feature will be removed in v6.0.0. See https://github.com/optuna/optuna/releases/tag/v3.0.0. Use suggest_float instead.\n",
      "  'gb__l2_regularization': trial.suggest_uniform('l2_regularization', 0.0, 2.0)\n"
     ]
    },
    {
     "name": "stdout",
     "output_type": "stream",
     "text": [
      "[I 2025-07-08 03:42:24,325] Trial 3 finished with value: 0.670262188376623 and parameters: {'learning_rate': 0.002846526357761094, 'max_leaf_nodes': 89, 'max_depth': 6, 'min_samples_leaf': 92, 'l2_regularization': 0.5824582803960838}. Best is trial 0 with value: 0.6952899580869166.\n"
     ]
    },
    {
     "name": "stderr",
     "output_type": "stream",
     "text": [
      "Best trial: 4. Best value: 0.709159:   5%|▌         | 5/100 [01:18<22:31, 14.23s/it]/tmp/ipykernel_7726/1741534080.py:11: FutureWarning: suggest_loguniform has been deprecated in v3.0.0. This feature will be removed in v6.0.0. See https://github.com/optuna/optuna/releases/tag/v3.0.0. Use suggest_float(..., log=True) instead.\n",
      "  'gb__learning_rate':     trial.suggest_loguniform('learning_rate', 1e-3, 0.3),\n",
      "/tmp/ipykernel_7726/1741534080.py:15: FutureWarning: suggest_uniform has been deprecated in v3.0.0. This feature will be removed in v6.0.0. See https://github.com/optuna/optuna/releases/tag/v3.0.0. Use suggest_float instead.\n",
      "  'gb__l2_regularization': trial.suggest_uniform('l2_regularization', 0.0, 2.0)\n"
     ]
    },
    {
     "name": "stdout",
     "output_type": "stream",
     "text": [
      "[I 2025-07-08 03:42:33,416] Trial 4 finished with value: 0.7091588026211367 and parameters: {'learning_rate': 0.032781876533976156, 'max_leaf_nodes': 49, 'max_depth': 4, 'min_samples_leaf': 79, 'l2_regularization': 0.9121399684340719}. Best is trial 4 with value: 0.7091588026211367.\n"
     ]
    },
    {
     "name": "stderr",
     "output_type": "stream",
     "text": [
      "Best trial: 5. Best value: 0.712424:   6%|▌         | 6/100 [01:25<18:16, 11.66s/it]/tmp/ipykernel_7726/1741534080.py:11: FutureWarning: suggest_loguniform has been deprecated in v3.0.0. This feature will be removed in v6.0.0. See https://github.com/optuna/optuna/releases/tag/v3.0.0. Use suggest_float(..., log=True) instead.\n",
      "  'gb__learning_rate':     trial.suggest_loguniform('learning_rate', 1e-3, 0.3),\n",
      "/tmp/ipykernel_7726/1741534080.py:15: FutureWarning: suggest_uniform has been deprecated in v3.0.0. This feature will be removed in v6.0.0. See https://github.com/optuna/optuna/releases/tag/v3.0.0. Use suggest_float instead.\n",
      "  'gb__l2_regularization': trial.suggest_uniform('l2_regularization', 0.0, 2.0)\n"
     ]
    },
    {
     "name": "stdout",
     "output_type": "stream",
     "text": [
      "[I 2025-07-08 03:42:40,105] Trial 5 finished with value: 0.7124240175363031 and parameters: {'learning_rate': 0.08810003129071789, 'max_leaf_nodes': 64, 'max_depth': 6, 'min_samples_leaf': 123, 'l2_regularization': 0.09290082543999545}. Best is trial 5 with value: 0.7124240175363031.\n"
     ]
    },
    {
     "name": "stderr",
     "output_type": "stream",
     "text": [
      "Best trial: 5. Best value: 0.712424:   7%|▋         | 7/100 [01:32<15:48, 10.20s/it]/tmp/ipykernel_7726/1741534080.py:11: FutureWarning: suggest_loguniform has been deprecated in v3.0.0. This feature will be removed in v6.0.0. See https://github.com/optuna/optuna/releases/tag/v3.0.0. Use suggest_float(..., log=True) instead.\n",
      "  'gb__learning_rate':     trial.suggest_loguniform('learning_rate', 1e-3, 0.3),\n",
      "/tmp/ipykernel_7726/1741534080.py:15: FutureWarning: suggest_uniform has been deprecated in v3.0.0. This feature will be removed in v6.0.0. See https://github.com/optuna/optuna/releases/tag/v3.0.0. Use suggest_float instead.\n",
      "  'gb__l2_regularization': trial.suggest_uniform('l2_regularization', 0.0, 2.0)\n"
     ]
    },
    {
     "name": "stdout",
     "output_type": "stream",
     "text": [
      "[I 2025-07-08 03:42:47,278] Trial 6 finished with value: 0.6938511368917875 and parameters: {'learning_rate': 0.03198617182203562, 'max_leaf_nodes': 57, 'max_depth': 2, 'min_samples_leaf': 191, 'l2_regularization': 1.9312640661491187}. Best is trial 5 with value: 0.7124240175363031.\n"
     ]
    },
    {
     "name": "stderr",
     "output_type": "stream",
     "text": [
      "Best trial: 5. Best value: 0.712424:   8%|▊         | 8/100 [01:39<14:00,  9.14s/it]/tmp/ipykernel_7726/1741534080.py:11: FutureWarning: suggest_loguniform has been deprecated in v3.0.0. This feature will be removed in v6.0.0. See https://github.com/optuna/optuna/releases/tag/v3.0.0. Use suggest_float(..., log=True) instead.\n",
      "  'gb__learning_rate':     trial.suggest_loguniform('learning_rate', 1e-3, 0.3),\n",
      "/tmp/ipykernel_7726/1741534080.py:15: FutureWarning: suggest_uniform has been deprecated in v3.0.0. This feature will be removed in v6.0.0. See https://github.com/optuna/optuna/releases/tag/v3.0.0. Use suggest_float instead.\n",
      "  'gb__l2_regularization': trial.suggest_uniform('l2_regularization', 0.0, 2.0)\n"
     ]
    },
    {
     "name": "stdout",
     "output_type": "stream",
     "text": [
      "[I 2025-07-08 03:42:54,148] Trial 7 finished with value: 0.7097721180903486 and parameters: {'learning_rate': 0.10057690178153984, 'max_leaf_nodes': 89, 'max_depth': 2, 'min_samples_leaf': 140, 'l2_regularization': 0.8803049874792026}. Best is trial 5 with value: 0.7124240175363031.\n"
     ]
    },
    {
     "name": "stderr",
     "output_type": "stream",
     "text": [
      "Best trial: 5. Best value: 0.712424:   9%|▉         | 9/100 [01:46<12:59,  8.57s/it]/tmp/ipykernel_7726/1741534080.py:11: FutureWarning: suggest_loguniform has been deprecated in v3.0.0. This feature will be removed in v6.0.0. See https://github.com/optuna/optuna/releases/tag/v3.0.0. Use suggest_float(..., log=True) instead.\n",
      "  'gb__learning_rate':     trial.suggest_loguniform('learning_rate', 1e-3, 0.3),\n",
      "/tmp/ipykernel_7726/1741534080.py:15: FutureWarning: suggest_uniform has been deprecated in v3.0.0. This feature will be removed in v6.0.0. See https://github.com/optuna/optuna/releases/tag/v3.0.0. Use suggest_float instead.\n",
      "  'gb__l2_regularization': trial.suggest_uniform('l2_regularization', 0.0, 2.0)\n"
     ]
    },
    {
     "name": "stdout",
     "output_type": "stream",
     "text": [
      "[I 2025-07-08 03:43:01,467] Trial 8 finished with value: 0.6160116957430581 and parameters: {'learning_rate': 0.002005873336344495, 'max_leaf_nodes': 135, 'max_depth': 2, 'min_samples_leaf': 183, 'l2_regularization': 0.5175599632000338}. Best is trial 5 with value: 0.7124240175363031.\n"
     ]
    },
    {
     "name": "stderr",
     "output_type": "stream",
     "text": [
      "Best trial: 5. Best value: 0.712424:  10%|█         | 10/100 [01:57<13:54,  9.27s/it]/tmp/ipykernel_7726/1741534080.py:11: FutureWarning: suggest_loguniform has been deprecated in v3.0.0. This feature will be removed in v6.0.0. See https://github.com/optuna/optuna/releases/tag/v3.0.0. Use suggest_float(..., log=True) instead.\n",
      "  'gb__learning_rate':     trial.suggest_loguniform('learning_rate', 1e-3, 0.3),\n",
      "/tmp/ipykernel_7726/1741534080.py:15: FutureWarning: suggest_uniform has been deprecated in v3.0.0. This feature will be removed in v6.0.0. See https://github.com/optuna/optuna/releases/tag/v3.0.0. Use suggest_float instead.\n",
      "  'gb__l2_regularization': trial.suggest_uniform('l2_regularization', 0.0, 2.0)\n"
     ]
    },
    {
     "name": "stdout",
     "output_type": "stream",
     "text": [
      "[I 2025-07-08 03:43:12,322] Trial 9 finished with value: 0.7105349450501198 and parameters: {'learning_rate': 0.043767126303409544, 'max_leaf_nodes': 91, 'max_depth': 6, 'min_samples_leaf': 114, 'l2_regularization': 0.3697089110510541}. Best is trial 5 with value: 0.7124240175363031.\n"
     ]
    },
    {
     "name": "stderr",
     "output_type": "stream",
     "text": [
      "Best trial: 10. Best value: 0.713785:  11%|█         | 11/100 [02:00<10:47,  7.28s/it]/tmp/ipykernel_7726/1741534080.py:11: FutureWarning: suggest_loguniform has been deprecated in v3.0.0. This feature will be removed in v6.0.0. See https://github.com/optuna/optuna/releases/tag/v3.0.0. Use suggest_float(..., log=True) instead.\n",
      "  'gb__learning_rate':     trial.suggest_loguniform('learning_rate', 1e-3, 0.3),\n",
      "/tmp/ipykernel_7726/1741534080.py:15: FutureWarning: suggest_uniform has been deprecated in v3.0.0. This feature will be removed in v6.0.0. See https://github.com/optuna/optuna/releases/tag/v3.0.0. Use suggest_float instead.\n",
      "  'gb__l2_regularization': trial.suggest_uniform('l2_regularization', 0.0, 2.0)\n"
     ]
    },
    {
     "name": "stdout",
     "output_type": "stream",
     "text": [
      "[I 2025-07-08 03:43:15,067] Trial 10 finished with value: 0.7137853334660293 and parameters: {'learning_rate': 0.2597765579460734, 'max_leaf_nodes': 184, 'max_depth': 4, 'min_samples_leaf': 13, 'l2_regularization': 0.029026933760103082}. Best is trial 10 with value: 0.7137853334660293.\n"
     ]
    },
    {
     "name": "stderr",
     "output_type": "stream",
     "text": [
      "Best trial: 11. Best value: 0.713934:  12%|█▏        | 12/100 [02:04<09:09,  6.24s/it]/tmp/ipykernel_7726/1741534080.py:11: FutureWarning: suggest_loguniform has been deprecated in v3.0.0. This feature will be removed in v6.0.0. See https://github.com/optuna/optuna/releases/tag/v3.0.0. Use suggest_float(..., log=True) instead.\n",
      "  'gb__learning_rate':     trial.suggest_loguniform('learning_rate', 1e-3, 0.3),\n",
      "/tmp/ipykernel_7726/1741534080.py:15: FutureWarning: suggest_uniform has been deprecated in v3.0.0. This feature will be removed in v6.0.0. See https://github.com/optuna/optuna/releases/tag/v3.0.0. Use suggest_float instead.\n",
      "  'gb__l2_regularization': trial.suggest_uniform('l2_regularization', 0.0, 2.0)\n"
     ]
    },
    {
     "name": "stdout",
     "output_type": "stream",
     "text": [
      "[I 2025-07-08 03:43:18,950] Trial 11 finished with value: 0.7139339220128978 and parameters: {'learning_rate': 0.20737688966099269, 'max_leaf_nodes': 190, 'max_depth': 4, 'min_samples_leaf': 26, 'l2_regularization': 0.007453247542965356}. Best is trial 11 with value: 0.7139339220128978.\n"
     ]
    },
    {
     "name": "stderr",
     "output_type": "stream",
     "text": [
      "Best trial: 11. Best value: 0.713934:  13%|█▎        | 13/100 [02:06<07:28,  5.15s/it]/tmp/ipykernel_7726/1741534080.py:11: FutureWarning: suggest_loguniform has been deprecated in v3.0.0. This feature will be removed in v6.0.0. See https://github.com/optuna/optuna/releases/tag/v3.0.0. Use suggest_float(..., log=True) instead.\n",
      "  'gb__learning_rate':     trial.suggest_loguniform('learning_rate', 1e-3, 0.3),\n",
      "/tmp/ipykernel_7726/1741534080.py:15: FutureWarning: suggest_uniform has been deprecated in v3.0.0. This feature will be removed in v6.0.0. See https://github.com/optuna/optuna/releases/tag/v3.0.0. Use suggest_float instead.\n",
      "  'gb__l2_regularization': trial.suggest_uniform('l2_regularization', 0.0, 2.0)\n"
     ]
    },
    {
     "name": "stdout",
     "output_type": "stream",
     "text": [
      "[I 2025-07-08 03:43:21,589] Trial 12 finished with value: 0.7128002893663709 and parameters: {'learning_rate': 0.2872462699057635, 'max_leaf_nodes': 192, 'max_depth': 4, 'min_samples_leaf': 16, 'l2_regularization': 0.03287085363744247}. Best is trial 11 with value: 0.7139339220128978.\n"
     ]
    },
    {
     "name": "stderr",
     "output_type": "stream",
     "text": [
      "Best trial: 11. Best value: 0.713934:  14%|█▍        | 14/100 [02:09<06:19,  4.42s/it]/tmp/ipykernel_7726/1741534080.py:11: FutureWarning: suggest_loguniform has been deprecated in v3.0.0. This feature will be removed in v6.0.0. See https://github.com/optuna/optuna/releases/tag/v3.0.0. Use suggest_float(..., log=True) instead.\n",
      "  'gb__learning_rate':     trial.suggest_loguniform('learning_rate', 1e-3, 0.3),\n",
      "/tmp/ipykernel_7726/1741534080.py:15: FutureWarning: suggest_uniform has been deprecated in v3.0.0. This feature will be removed in v6.0.0. See https://github.com/optuna/optuna/releases/tag/v3.0.0. Use suggest_float instead.\n",
      "  'gb__l2_regularization': trial.suggest_uniform('l2_regularization', 0.0, 2.0)\n"
     ]
    },
    {
     "name": "stdout",
     "output_type": "stream",
     "text": [
      "[I 2025-07-08 03:43:24,312] Trial 13 finished with value: 0.7137691057219369 and parameters: {'learning_rate': 0.24706127938246092, 'max_leaf_nodes': 188, 'max_depth': 4, 'min_samples_leaf': 10, 'l2_regularization': 1.291712881406482}. Best is trial 11 with value: 0.7139339220128978.\n"
     ]
    },
    {
     "name": "stderr",
     "output_type": "stream",
     "text": [
      "Best trial: 11. Best value: 0.713934:  15%|█▌        | 15/100 [02:14<06:26,  4.55s/it]/tmp/ipykernel_7726/1741534080.py:11: FutureWarning: suggest_loguniform has been deprecated in v3.0.0. This feature will be removed in v6.0.0. See https://github.com/optuna/optuna/releases/tag/v3.0.0. Use suggest_float(..., log=True) instead.\n",
      "  'gb__learning_rate':     trial.suggest_loguniform('learning_rate', 1e-3, 0.3),\n",
      "/tmp/ipykernel_7726/1741534080.py:15: FutureWarning: suggest_uniform has been deprecated in v3.0.0. This feature will be removed in v6.0.0. See https://github.com/optuna/optuna/releases/tag/v3.0.0. Use suggest_float instead.\n",
      "  'gb__l2_regularization': trial.suggest_uniform('l2_regularization', 0.0, 2.0)\n"
     ]
    },
    {
     "name": "stdout",
     "output_type": "stream",
     "text": [
      "[I 2025-07-08 03:43:29,166] Trial 14 finished with value: 0.7127794842738056 and parameters: {'learning_rate': 0.12064229430874751, 'max_leaf_nodes': 182, 'max_depth': 5, 'min_samples_leaf': 48, 'l2_regularization': 0.029010502180317324}. Best is trial 11 with value: 0.7139339220128978.\n"
     ]
    },
    {
     "name": "stderr",
     "output_type": "stream",
     "text": [
      "Best trial: 11. Best value: 0.713934:  16%|█▌        | 16/100 [02:22<07:56,  5.68s/it]/tmp/ipykernel_7726/1741534080.py:11: FutureWarning: suggest_loguniform has been deprecated in v3.0.0. This feature will be removed in v6.0.0. See https://github.com/optuna/optuna/releases/tag/v3.0.0. Use suggest_float(..., log=True) instead.\n",
      "  'gb__learning_rate':     trial.suggest_loguniform('learning_rate', 1e-3, 0.3),\n",
      "/tmp/ipykernel_7726/1741534080.py:15: FutureWarning: suggest_uniform has been deprecated in v3.0.0. This feature will be removed in v6.0.0. See https://github.com/optuna/optuna/releases/tag/v3.0.0. Use suggest_float instead.\n",
      "  'gb__l2_regularization': trial.suggest_uniform('l2_regularization', 0.0, 2.0)\n"
     ]
    },
    {
     "name": "stdout",
     "output_type": "stream",
     "text": [
      "[I 2025-07-08 03:43:37,466] Trial 15 finished with value: 0.6802708893821506 and parameters: {'learning_rate': 0.01053693626533655, 'max_leaf_nodes': 151, 'max_depth': 3, 'min_samples_leaf': 42, 'l2_regularization': 0.6447332971785196}. Best is trial 11 with value: 0.7139339220128978.\n"
     ]
    },
    {
     "name": "stderr",
     "output_type": "stream",
     "text": [
      "Best trial: 11. Best value: 0.713934:  17%|█▋        | 17/100 [02:26<07:09,  5.18s/it]/tmp/ipykernel_7726/1741534080.py:11: FutureWarning: suggest_loguniform has been deprecated in v3.0.0. This feature will be removed in v6.0.0. See https://github.com/optuna/optuna/releases/tag/v3.0.0. Use suggest_float(..., log=True) instead.\n",
      "  'gb__learning_rate':     trial.suggest_loguniform('learning_rate', 1e-3, 0.3),\n",
      "/tmp/ipykernel_7726/1741534080.py:15: FutureWarning: suggest_uniform has been deprecated in v3.0.0. This feature will be removed in v6.0.0. See https://github.com/optuna/optuna/releases/tag/v3.0.0. Use suggest_float instead.\n",
      "  'gb__l2_regularization': trial.suggest_uniform('l2_regularization', 0.0, 2.0)\n"
     ]
    },
    {
     "name": "stdout",
     "output_type": "stream",
     "text": [
      "[I 2025-07-08 03:43:41,483] Trial 16 finished with value: 0.7101301697539166 and parameters: {'learning_rate': 0.1443159321907246, 'max_leaf_nodes': 221, 'max_depth': 7, 'min_samples_leaf': 67, 'l2_regularization': 1.33344223356461}. Best is trial 11 with value: 0.7139339220128978.\n"
     ]
    },
    {
     "name": "stderr",
     "output_type": "stream",
     "text": [
      "Best trial: 11. Best value: 0.713934:  18%|█▊        | 18/100 [02:35<08:42,  6.38s/it]/tmp/ipykernel_7726/1741534080.py:11: FutureWarning: suggest_loguniform has been deprecated in v3.0.0. This feature will be removed in v6.0.0. See https://github.com/optuna/optuna/releases/tag/v3.0.0. Use suggest_float(..., log=True) instead.\n",
      "  'gb__learning_rate':     trial.suggest_loguniform('learning_rate', 1e-3, 0.3),\n",
      "/tmp/ipykernel_7726/1741534080.py:15: FutureWarning: suggest_uniform has been deprecated in v3.0.0. This feature will be removed in v6.0.0. See https://github.com/optuna/optuna/releases/tag/v3.0.0. Use suggest_float instead.\n",
      "  'gb__l2_regularization': trial.suggest_uniform('l2_regularization', 0.0, 2.0)\n"
     ]
    },
    {
     "name": "stdout",
     "output_type": "stream",
     "text": [
      "[I 2025-07-08 03:43:50,651] Trial 17 finished with value: 0.7112078388128168 and parameters: {'learning_rate': 0.051859678866828955, 'max_leaf_nodes': 147, 'max_depth': 5, 'min_samples_leaf': 28, 'l2_regularization': 1.9920339787224264}. Best is trial 11 with value: 0.7139339220128978.\n"
     ]
    },
    {
     "name": "stderr",
     "output_type": "stream",
     "text": [
      "Best trial: 11. Best value: 0.713934:  19%|█▉        | 19/100 [02:41<08:23,  6.22s/it]/tmp/ipykernel_7726/1741534080.py:11: FutureWarning: suggest_loguniform has been deprecated in v3.0.0. This feature will be removed in v6.0.0. See https://github.com/optuna/optuna/releases/tag/v3.0.0. Use suggest_float(..., log=True) instead.\n",
      "  'gb__learning_rate':     trial.suggest_loguniform('learning_rate', 1e-3, 0.3),\n",
      "/tmp/ipykernel_7726/1741534080.py:15: FutureWarning: suggest_uniform has been deprecated in v3.0.0. This feature will be removed in v6.0.0. See https://github.com/optuna/optuna/releases/tag/v3.0.0. Use suggest_float instead.\n",
      "  'gb__l2_regularization': trial.suggest_uniform('l2_regularization', 0.0, 2.0)\n"
     ]
    },
    {
     "name": "stdout",
     "output_type": "stream",
     "text": [
      "[I 2025-07-08 03:43:56,497] Trial 18 finished with value: 0.7132079117510464 and parameters: {'learning_rate': 0.17929753032709952, 'max_leaf_nodes': 217, 'max_depth': 3, 'min_samples_leaf': 160, 'l2_regularization': 0.2275222650691006}. Best is trial 11 with value: 0.7139339220128978.\n"
     ]
    },
    {
     "name": "stderr",
     "output_type": "stream",
     "text": [
      "Best trial: 11. Best value: 0.713934:  20%|██        | 20/100 [02:52<10:13,  7.67s/it]/tmp/ipykernel_7726/1741534080.py:11: FutureWarning: suggest_loguniform has been deprecated in v3.0.0. This feature will be removed in v6.0.0. See https://github.com/optuna/optuna/releases/tag/v3.0.0. Use suggest_float(..., log=True) instead.\n",
      "  'gb__learning_rate':     trial.suggest_loguniform('learning_rate', 1e-3, 0.3),\n",
      "/tmp/ipykernel_7726/1741534080.py:15: FutureWarning: suggest_uniform has been deprecated in v3.0.0. This feature will be removed in v6.0.0. See https://github.com/optuna/optuna/releases/tag/v3.0.0. Use suggest_float instead.\n",
      "  'gb__l2_regularization': trial.suggest_uniform('l2_regularization', 0.0, 2.0)\n"
     ]
    },
    {
     "name": "stdout",
     "output_type": "stream",
     "text": [
      "[I 2025-07-08 03:44:07,536] Trial 19 finished with value: 0.703854333513752 and parameters: {'learning_rate': 0.017069887134957676, 'max_leaf_nodes': 158, 'max_depth': 5, 'min_samples_leaf': 66, 'l2_regularization': 0.7030433162664234}. Best is trial 11 with value: 0.7139339220128978.\n"
     ]
    },
    {
     "name": "stderr",
     "output_type": "stream",
     "text": [
      "Best trial: 11. Best value: 0.713934:  21%|██        | 21/100 [02:59<09:37,  7.30s/it]/tmp/ipykernel_7726/1741534080.py:11: FutureWarning: suggest_loguniform has been deprecated in v3.0.0. This feature will be removed in v6.0.0. See https://github.com/optuna/optuna/releases/tag/v3.0.0. Use suggest_float(..., log=True) instead.\n",
      "  'gb__learning_rate':     trial.suggest_loguniform('learning_rate', 1e-3, 0.3),\n",
      "/tmp/ipykernel_7726/1741534080.py:15: FutureWarning: suggest_uniform has been deprecated in v3.0.0. This feature will be removed in v6.0.0. See https://github.com/optuna/optuna/releases/tag/v3.0.0. Use suggest_float instead.\n",
      "  'gb__l2_regularization': trial.suggest_uniform('l2_regularization', 0.0, 2.0)\n"
     ]
    },
    {
     "name": "stdout",
     "output_type": "stream",
     "text": [
      "[I 2025-07-08 03:44:14,001] Trial 20 finished with value: 0.7103232665329762 and parameters: {'learning_rate': 0.07192869727415192, 'max_leaf_nodes': 122, 'max_depth': 10, 'min_samples_leaf': 33, 'l2_regularization': 1.1471034380995189}. Best is trial 11 with value: 0.7139339220128978.\n"
     ]
    },
    {
     "name": "stderr",
     "output_type": "stream",
     "text": [
      "Best trial: 11. Best value: 0.713934:  22%|██▏       | 22/100 [03:02<07:47,  5.99s/it]/tmp/ipykernel_7726/1741534080.py:11: FutureWarning: suggest_loguniform has been deprecated in v3.0.0. This feature will be removed in v6.0.0. See https://github.com/optuna/optuna/releases/tag/v3.0.0. Use suggest_float(..., log=True) instead.\n",
      "  'gb__learning_rate':     trial.suggest_loguniform('learning_rate', 1e-3, 0.3),\n",
      "/tmp/ipykernel_7726/1741534080.py:15: FutureWarning: suggest_uniform has been deprecated in v3.0.0. This feature will be removed in v6.0.0. See https://github.com/optuna/optuna/releases/tag/v3.0.0. Use suggest_float instead.\n",
      "  'gb__l2_regularization': trial.suggest_uniform('l2_regularization', 0.0, 2.0)\n"
     ]
    },
    {
     "name": "stdout",
     "output_type": "stream",
     "text": [
      "[I 2025-07-08 03:44:16,927] Trial 21 finished with value: 0.7138454812473369 and parameters: {'learning_rate': 0.2523136395691636, 'max_leaf_nodes': 182, 'max_depth': 4, 'min_samples_leaf': 11, 'l2_regularization': 1.5622781321066346}. Best is trial 11 with value: 0.7139339220128978.\n"
     ]
    },
    {
     "name": "stderr",
     "output_type": "stream",
     "text": [
      "Best trial: 11. Best value: 0.713934:  23%|██▎       | 23/100 [03:05<06:43,  5.24s/it]/tmp/ipykernel_7726/1741534080.py:11: FutureWarning: suggest_loguniform has been deprecated in v3.0.0. This feature will be removed in v6.0.0. See https://github.com/optuna/optuna/releases/tag/v3.0.0. Use suggest_float(..., log=True) instead.\n",
      "  'gb__learning_rate':     trial.suggest_loguniform('learning_rate', 1e-3, 0.3),\n",
      "/tmp/ipykernel_7726/1741534080.py:15: FutureWarning: suggest_uniform has been deprecated in v3.0.0. This feature will be removed in v6.0.0. See https://github.com/optuna/optuna/releases/tag/v3.0.0. Use suggest_float instead.\n",
      "  'gb__l2_regularization': trial.suggest_uniform('l2_regularization', 0.0, 2.0)\n"
     ]
    },
    {
     "name": "stdout",
     "output_type": "stream",
     "text": [
      "[I 2025-07-08 03:44:20,404] Trial 22 finished with value: 0.7130512585759622 and parameters: {'learning_rate': 0.28748717030585563, 'max_leaf_nodes': 211, 'max_depth': 3, 'min_samples_leaf': 10, 'l2_regularization': 1.6458360904702927}. Best is trial 11 with value: 0.7139339220128978.\n"
     ]
    },
    {
     "name": "stderr",
     "output_type": "stream",
     "text": [
      "Best trial: 11. Best value: 0.713934:  24%|██▍       | 24/100 [03:09<06:10,  4.88s/it]/tmp/ipykernel_7726/1741534080.py:11: FutureWarning: suggest_loguniform has been deprecated in v3.0.0. This feature will be removed in v6.0.0. See https://github.com/optuna/optuna/releases/tag/v3.0.0. Use suggest_float(..., log=True) instead.\n",
      "  'gb__learning_rate':     trial.suggest_loguniform('learning_rate', 1e-3, 0.3),\n",
      "/tmp/ipykernel_7726/1741534080.py:15: FutureWarning: suggest_uniform has been deprecated in v3.0.0. This feature will be removed in v6.0.0. See https://github.com/optuna/optuna/releases/tag/v3.0.0. Use suggest_float instead.\n",
      "  'gb__l2_regularization': trial.suggest_uniform('l2_regularization', 0.0, 2.0)\n"
     ]
    },
    {
     "name": "stdout",
     "output_type": "stream",
     "text": [
      "[I 2025-07-08 03:44:24,450] Trial 23 finished with value: 0.7115617679826556 and parameters: {'learning_rate': 0.1641447433710541, 'max_leaf_nodes': 171, 'max_depth': 4, 'min_samples_leaf': 28, 'l2_regularization': 1.6279874111556634}. Best is trial 11 with value: 0.7139339220128978.\n"
     ]
    },
    {
     "name": "stderr",
     "output_type": "stream",
     "text": [
      "Best trial: 11. Best value: 0.713934:  25%|██▌       | 25/100 [03:13<05:36,  4.49s/it]/tmp/ipykernel_7726/1741534080.py:11: FutureWarning: suggest_loguniform has been deprecated in v3.0.0. This feature will be removed in v6.0.0. See https://github.com/optuna/optuna/releases/tag/v3.0.0. Use suggest_float(..., log=True) instead.\n",
      "  'gb__learning_rate':     trial.suggest_loguniform('learning_rate', 1e-3, 0.3),\n",
      "/tmp/ipykernel_7726/1741534080.py:15: FutureWarning: suggest_uniform has been deprecated in v3.0.0. This feature will be removed in v6.0.0. See https://github.com/optuna/optuna/releases/tag/v3.0.0. Use suggest_float instead.\n",
      "  'gb__l2_regularization': trial.suggest_uniform('l2_regularization', 0.0, 2.0)\n"
     ]
    },
    {
     "name": "stdout",
     "output_type": "stream",
     "text": [
      "[I 2025-07-08 03:44:28,032] Trial 24 finished with value: 0.7117506692316986 and parameters: {'learning_rate': 0.1991304055620488, 'max_leaf_nodes': 205, 'max_depth': 5, 'min_samples_leaf': 60, 'l2_regularization': 1.1011388916006388}. Best is trial 11 with value: 0.7139339220128978.\n"
     ]
    },
    {
     "name": "stderr",
     "output_type": "stream",
     "text": [
      "Best trial: 11. Best value: 0.713934:  26%|██▌       | 26/100 [03:21<06:51,  5.56s/it]/tmp/ipykernel_7726/1741534080.py:11: FutureWarning: suggest_loguniform has been deprecated in v3.0.0. This feature will be removed in v6.0.0. See https://github.com/optuna/optuna/releases/tag/v3.0.0. Use suggest_float(..., log=True) instead.\n",
      "  'gb__learning_rate':     trial.suggest_loguniform('learning_rate', 1e-3, 0.3),\n",
      "/tmp/ipykernel_7726/1741534080.py:15: FutureWarning: suggest_uniform has been deprecated in v3.0.0. This feature will be removed in v6.0.0. See https://github.com/optuna/optuna/releases/tag/v3.0.0. Use suggest_float instead.\n",
      "  'gb__l2_regularization': trial.suggest_uniform('l2_regularization', 0.0, 2.0)\n"
     ]
    },
    {
     "name": "stdout",
     "output_type": "stream",
     "text": [
      "[I 2025-07-08 03:44:36,096] Trial 25 finished with value: 0.7120529141342492 and parameters: {'learning_rate': 0.06574239758548009, 'max_leaf_nodes': 168, 'max_depth': 3, 'min_samples_leaf': 23, 'l2_regularization': 0.18034810589485528}. Best is trial 11 with value: 0.7139339220128978.\n"
     ]
    },
    {
     "name": "stderr",
     "output_type": "stream",
     "text": [
      "Best trial: 11. Best value: 0.713934:  27%|██▋       | 27/100 [03:27<06:51,  5.63s/it]/tmp/ipykernel_7726/1741534080.py:11: FutureWarning: suggest_loguniform has been deprecated in v3.0.0. This feature will be removed in v6.0.0. See https://github.com/optuna/optuna/releases/tag/v3.0.0. Use suggest_float(..., log=True) instead.\n",
      "  'gb__learning_rate':     trial.suggest_loguniform('learning_rate', 1e-3, 0.3),\n",
      "/tmp/ipykernel_7726/1741534080.py:15: FutureWarning: suggest_uniform has been deprecated in v3.0.0. This feature will be removed in v6.0.0. See https://github.com/optuna/optuna/releases/tag/v3.0.0. Use suggest_float instead.\n",
      "  'gb__l2_regularization': trial.suggest_uniform('l2_regularization', 0.0, 2.0)\n"
     ]
    },
    {
     "name": "stdout",
     "output_type": "stream",
     "text": [
      "[I 2025-07-08 03:44:41,891] Trial 26 finished with value: 0.7133818297351036 and parameters: {'learning_rate': 0.11209867093985647, 'max_leaf_nodes': 113, 'max_depth': 4, 'min_samples_leaf': 40, 'l2_regularization': 1.7168264248222442}. Best is trial 11 with value: 0.7139339220128978.\n"
     ]
    },
    {
     "name": "stderr",
     "output_type": "stream",
     "text": [
      "Best trial: 11. Best value: 0.713934:  28%|██▊       | 28/100 [03:30<06:00,  5.01s/it]/tmp/ipykernel_7726/1741534080.py:11: FutureWarning: suggest_loguniform has been deprecated in v3.0.0. This feature will be removed in v6.0.0. See https://github.com/optuna/optuna/releases/tag/v3.0.0. Use suggest_float(..., log=True) instead.\n",
      "  'gb__learning_rate':     trial.suggest_loguniform('learning_rate', 1e-3, 0.3),\n",
      "/tmp/ipykernel_7726/1741534080.py:15: FutureWarning: suggest_uniform has been deprecated in v3.0.0. This feature will be removed in v6.0.0. See https://github.com/optuna/optuna/releases/tag/v3.0.0. Use suggest_float instead.\n",
      "  'gb__l2_regularization': trial.suggest_uniform('l2_regularization', 0.0, 2.0)\n"
     ]
    },
    {
     "name": "stdout",
     "output_type": "stream",
     "text": [
      "[I 2025-07-08 03:44:45,460] Trial 27 finished with value: 0.7117446530740316 and parameters: {'learning_rate': 0.1785023550277947, 'max_leaf_nodes': 227, 'max_depth': 7, 'min_samples_leaf': 89, 'l2_regularization': 0.7558956458902383}. Best is trial 11 with value: 0.7139339220128978.\n"
     ]
    },
    {
     "name": "stderr",
     "output_type": "stream",
     "text": [
      "Best trial: 11. Best value: 0.713934:  29%|██▉       | 29/100 [03:41<07:52,  6.65s/it]/tmp/ipykernel_7726/1741534080.py:11: FutureWarning: suggest_loguniform has been deprecated in v3.0.0. This feature will be removed in v6.0.0. See https://github.com/optuna/optuna/releases/tag/v3.0.0. Use suggest_float(..., log=True) instead.\n",
      "  'gb__learning_rate':     trial.suggest_loguniform('learning_rate', 1e-3, 0.3),\n",
      "/tmp/ipykernel_7726/1741534080.py:15: FutureWarning: suggest_uniform has been deprecated in v3.0.0. This feature will be removed in v6.0.0. See https://github.com/optuna/optuna/releases/tag/v3.0.0. Use suggest_float instead.\n",
      "  'gb__l2_regularization': trial.suggest_uniform('l2_regularization', 0.0, 2.0)\n"
     ]
    },
    {
     "name": "stdout",
     "output_type": "stream",
     "text": [
      "[I 2025-07-08 03:44:55,923] Trial 28 finished with value: 0.7099687805517163 and parameters: {'learning_rate': 0.029734536847197502, 'max_leaf_nodes': 197, 'max_depth': 5, 'min_samples_leaf': 57, 'l2_regularization': 0.5151689118233728}. Best is trial 11 with value: 0.7139339220128978.\n"
     ]
    },
    {
     "name": "stderr",
     "output_type": "stream",
     "text": [
      "Best trial: 11. Best value: 0.713934:  30%|███       | 30/100 [03:57<11:15,  9.66s/it]/tmp/ipykernel_7726/1741534080.py:11: FutureWarning: suggest_loguniform has been deprecated in v3.0.0. This feature will be removed in v6.0.0. See https://github.com/optuna/optuna/releases/tag/v3.0.0. Use suggest_float(..., log=True) instead.\n",
      "  'gb__learning_rate':     trial.suggest_loguniform('learning_rate', 1e-3, 0.3),\n",
      "/tmp/ipykernel_7726/1741534080.py:15: FutureWarning: suggest_uniform has been deprecated in v3.0.0. This feature will be removed in v6.0.0. See https://github.com/optuna/optuna/releases/tag/v3.0.0. Use suggest_float instead.\n",
      "  'gb__l2_regularization': trial.suggest_uniform('l2_regularization', 0.0, 2.0)\n"
     ]
    },
    {
     "name": "stdout",
     "output_type": "stream",
     "text": [
      "[I 2025-07-08 03:45:12,593] Trial 29 finished with value: 0.6901637703990385 and parameters: {'learning_rate': 0.006159763801939537, 'max_leaf_nodes': 242, 'max_depth': 7, 'min_samples_leaf': 23, 'l2_regularization': 0.3089141365339884}. Best is trial 11 with value: 0.7139339220128978.\n"
     ]
    },
    {
     "name": "stderr",
     "output_type": "stream",
     "text": [
      "Best trial: 30. Best value: 0.714618:  31%|███       | 31/100 [04:02<09:13,  8.02s/it]/tmp/ipykernel_7726/1741534080.py:11: FutureWarning: suggest_loguniform has been deprecated in v3.0.0. This feature will be removed in v6.0.0. See https://github.com/optuna/optuna/releases/tag/v3.0.0. Use suggest_float(..., log=True) instead.\n",
      "  'gb__learning_rate':     trial.suggest_loguniform('learning_rate', 1e-3, 0.3),\n",
      "/tmp/ipykernel_7726/1741534080.py:15: FutureWarning: suggest_uniform has been deprecated in v3.0.0. This feature will be removed in v6.0.0. See https://github.com/optuna/optuna/releases/tag/v3.0.0. Use suggest_float instead.\n",
      "  'gb__l2_regularization': trial.suggest_uniform('l2_regularization', 0.0, 2.0)\n"
     ]
    },
    {
     "name": "stdout",
     "output_type": "stream",
     "text": [
      "[I 2025-07-08 03:45:16,811] Trial 30 finished with value: 0.7146181722399032 and parameters: {'learning_rate': 0.22578459264592227, 'max_leaf_nodes': 172, 'max_depth': 3, 'min_samples_leaf': 38, 'l2_regularization': 1.5391610320146405}. Best is trial 30 with value: 0.7146181722399032.\n"
     ]
    },
    {
     "name": "stderr",
     "output_type": "stream",
     "text": [
      "Best trial: 30. Best value: 0.714618:  32%|███▏      | 32/100 [04:05<07:31,  6.64s/it]/tmp/ipykernel_7726/1741534080.py:11: FutureWarning: suggest_loguniform has been deprecated in v3.0.0. This feature will be removed in v6.0.0. See https://github.com/optuna/optuna/releases/tag/v3.0.0. Use suggest_float(..., log=True) instead.\n",
      "  'gb__learning_rate':     trial.suggest_loguniform('learning_rate', 1e-3, 0.3),\n",
      "/tmp/ipykernel_7726/1741534080.py:15: FutureWarning: suggest_uniform has been deprecated in v3.0.0. This feature will be removed in v6.0.0. See https://github.com/optuna/optuna/releases/tag/v3.0.0. Use suggest_float instead.\n",
      "  'gb__l2_regularization': trial.suggest_uniform('l2_regularization', 0.0, 2.0)\n"
     ]
    },
    {
     "name": "stdout",
     "output_type": "stream",
     "text": [
      "[I 2025-07-08 03:45:20,235] Trial 31 finished with value: 0.7144409914717903 and parameters: {'learning_rate': 0.2890786826334026, 'max_leaf_nodes': 172, 'max_depth': 3, 'min_samples_leaf': 33, 'l2_regularization': 1.5322761038662993}. Best is trial 30 with value: 0.7146181722399032.\n"
     ]
    },
    {
     "name": "stderr",
     "output_type": "stream",
     "text": [
      "Best trial: 30. Best value: 0.714618:  33%|███▎      | 33/100 [04:10<06:56,  6.21s/it]/tmp/ipykernel_7726/1741534080.py:11: FutureWarning: suggest_loguniform has been deprecated in v3.0.0. This feature will be removed in v6.0.0. See https://github.com/optuna/optuna/releases/tag/v3.0.0. Use suggest_float(..., log=True) instead.\n",
      "  'gb__learning_rate':     trial.suggest_loguniform('learning_rate', 1e-3, 0.3),\n",
      "/tmp/ipykernel_7726/1741534080.py:15: FutureWarning: suggest_uniform has been deprecated in v3.0.0. This feature will be removed in v6.0.0. See https://github.com/optuna/optuna/releases/tag/v3.0.0. Use suggest_float instead.\n",
      "  'gb__l2_regularization': trial.suggest_uniform('l2_regularization', 0.0, 2.0)\n"
     ]
    },
    {
     "name": "stdout",
     "output_type": "stream",
     "text": [
      "[I 2025-07-08 03:45:25,434] Trial 32 finished with value: 0.7127246574009021 and parameters: {'learning_rate': 0.14889445171906687, 'max_leaf_nodes': 170, 'max_depth': 3, 'min_samples_leaf': 37, 'l2_regularization': 1.5074342900204651}. Best is trial 30 with value: 0.7146181722399032.\n"
     ]
    },
    {
     "name": "stderr",
     "output_type": "stream",
     "text": [
      "Best trial: 30. Best value: 0.714618:  34%|███▍      | 34/100 [04:16<06:36,  6.01s/it]/tmp/ipykernel_7726/1741534080.py:11: FutureWarning: suggest_loguniform has been deprecated in v3.0.0. This feature will be removed in v6.0.0. See https://github.com/optuna/optuna/releases/tag/v3.0.0. Use suggest_float(..., log=True) instead.\n",
      "  'gb__learning_rate':     trial.suggest_loguniform('learning_rate', 1e-3, 0.3),\n",
      "/tmp/ipykernel_7726/1741534080.py:15: FutureWarning: suggest_uniform has been deprecated in v3.0.0. This feature will be removed in v6.0.0. See https://github.com/optuna/optuna/releases/tag/v3.0.0. Use suggest_float instead.\n",
      "  'gb__l2_regularization': trial.suggest_uniform('l2_regularization', 0.0, 2.0)\n"
     ]
    },
    {
     "name": "stdout",
     "output_type": "stream",
     "text": [
      "[I 2025-07-08 03:45:30,973] Trial 33 finished with value: 0.7125144184741323 and parameters: {'learning_rate': 0.21590238102333995, 'max_leaf_nodes': 144, 'max_depth': 2, 'min_samples_leaf': 50, 'l2_regularization': 1.808982905613443}. Best is trial 30 with value: 0.7146181722399032.\n"
     ]
    },
    {
     "name": "stderr",
     "output_type": "stream",
     "text": [
      "Best trial: 30. Best value: 0.714618:  35%|███▌      | 35/100 [04:19<05:39,  5.22s/it]/tmp/ipykernel_7726/1741534080.py:11: FutureWarning: suggest_loguniform has been deprecated in v3.0.0. This feature will be removed in v6.0.0. See https://github.com/optuna/optuna/releases/tag/v3.0.0. Use suggest_float(..., log=True) instead.\n",
      "  'gb__learning_rate':     trial.suggest_loguniform('learning_rate', 1e-3, 0.3),\n",
      "/tmp/ipykernel_7726/1741534080.py:15: FutureWarning: suggest_uniform has been deprecated in v3.0.0. This feature will be removed in v6.0.0. See https://github.com/optuna/optuna/releases/tag/v3.0.0. Use suggest_float instead.\n",
      "  'gb__l2_regularization': trial.suggest_uniform('l2_regularization', 0.0, 2.0)\n"
     ]
    },
    {
     "name": "stdout",
     "output_type": "stream",
     "text": [
      "[I 2025-07-08 03:45:34,355] Trial 34 finished with value: 0.713285547199703 and parameters: {'learning_rate': 0.2987934767801677, 'max_leaf_nodes': 129, 'max_depth': 3, 'min_samples_leaf': 76, 'l2_regularization': 1.4886893869317575}. Best is trial 30 with value: 0.7146181722399032.\n"
     ]
    },
    {
     "name": "stderr",
     "output_type": "stream",
     "text": [
      "Best trial: 30. Best value: 0.714618:  36%|███▌      | 36/100 [04:26<06:08,  5.76s/it]/tmp/ipykernel_7726/1741534080.py:11: FutureWarning: suggest_loguniform has been deprecated in v3.0.0. This feature will be removed in v6.0.0. See https://github.com/optuna/optuna/releases/tag/v3.0.0. Use suggest_float(..., log=True) instead.\n",
      "  'gb__learning_rate':     trial.suggest_loguniform('learning_rate', 1e-3, 0.3),\n",
      "/tmp/ipykernel_7726/1741534080.py:15: FutureWarning: suggest_uniform has been deprecated in v3.0.0. This feature will be removed in v6.0.0. See https://github.com/optuna/optuna/releases/tag/v3.0.0. Use suggest_float instead.\n",
      "  'gb__l2_regularization': trial.suggest_uniform('l2_regularization', 0.0, 2.0)\n"
     ]
    },
    {
     "name": "stdout",
     "output_type": "stream",
     "text": [
      "[I 2025-07-08 03:45:41,363] Trial 35 finished with value: 0.7102077465420671 and parameters: {'learning_rate': 0.08792501863719038, 'max_leaf_nodes': 237, 'max_depth': 2, 'min_samples_leaf': 22, 'l2_regularization': 1.2473437948775485}. Best is trial 30 with value: 0.7146181722399032.\n"
     ]
    },
    {
     "name": "stderr",
     "output_type": "stream",
     "text": [
      "Best trial: 30. Best value: 0.714618:  37%|███▋      | 37/100 [04:32<05:58,  5.69s/it]/tmp/ipykernel_7726/1741534080.py:11: FutureWarning: suggest_loguniform has been deprecated in v3.0.0. This feature will be removed in v6.0.0. See https://github.com/optuna/optuna/releases/tag/v3.0.0. Use suggest_float(..., log=True) instead.\n",
      "  'gb__learning_rate':     trial.suggest_loguniform('learning_rate', 1e-3, 0.3),\n",
      "/tmp/ipykernel_7726/1741534080.py:15: FutureWarning: suggest_uniform has been deprecated in v3.0.0. This feature will be removed in v6.0.0. See https://github.com/optuna/optuna/releases/tag/v3.0.0. Use suggest_float instead.\n",
      "  'gb__l2_regularization': trial.suggest_uniform('l2_regularization', 0.0, 2.0)\n"
     ]
    },
    {
     "name": "stdout",
     "output_type": "stream",
     "text": [
      "[I 2025-07-08 03:45:46,898] Trial 36 finished with value: 0.7137384744611666 and parameters: {'learning_rate': 0.11701946809786823, 'max_leaf_nodes': 162, 'max_depth': 4, 'min_samples_leaf': 38, 'l2_regularization': 1.430198409915202}. Best is trial 30 with value: 0.7146181722399032.\n"
     ]
    },
    {
     "name": "stderr",
     "output_type": "stream",
     "text": [
      "Best trial: 30. Best value: 0.714618:  38%|███▊      | 38/100 [04:37<05:41,  5.50s/it]/tmp/ipykernel_7726/1741534080.py:11: FutureWarning: suggest_loguniform has been deprecated in v3.0.0. This feature will be removed in v6.0.0. See https://github.com/optuna/optuna/releases/tag/v3.0.0. Use suggest_float(..., log=True) instead.\n",
      "  'gb__learning_rate':     trial.suggest_loguniform('learning_rate', 1e-3, 0.3),\n",
      "/tmp/ipykernel_7726/1741534080.py:15: FutureWarning: suggest_uniform has been deprecated in v3.0.0. This feature will be removed in v6.0.0. See https://github.com/optuna/optuna/releases/tag/v3.0.0. Use suggest_float instead.\n",
      "  'gb__l2_regularization': trial.suggest_uniform('l2_regularization', 0.0, 2.0)\n"
     ]
    },
    {
     "name": "stdout",
     "output_type": "stream",
     "text": [
      "[I 2025-07-08 03:45:51,960] Trial 37 finished with value: 0.712182675676793 and parameters: {'learning_rate': 0.20629242714182205, 'max_leaf_nodes': 18, 'max_depth': 3, 'min_samples_leaf': 101, 'l2_regularization': 1.8502529354818833}. Best is trial 30 with value: 0.7146181722399032.\n"
     ]
    },
    {
     "name": "stderr",
     "output_type": "stream",
     "text": [
      "Best trial: 30. Best value: 0.714618:  39%|███▉      | 39/100 [04:50<07:54,  7.78s/it]/tmp/ipykernel_7726/1741534080.py:11: FutureWarning: suggest_loguniform has been deprecated in v3.0.0. This feature will be removed in v6.0.0. See https://github.com/optuna/optuna/releases/tag/v3.0.0. Use suggest_float(..., log=True) instead.\n",
      "  'gb__learning_rate':     trial.suggest_loguniform('learning_rate', 1e-3, 0.3),\n",
      "/tmp/ipykernel_7726/1741534080.py:15: FutureWarning: suggest_uniform has been deprecated in v3.0.0. This feature will be removed in v6.0.0. See https://github.com/optuna/optuna/releases/tag/v3.0.0. Use suggest_float instead.\n",
      "  'gb__l2_regularization': trial.suggest_uniform('l2_regularization', 0.0, 2.0)\n"
     ]
    },
    {
     "name": "stdout",
     "output_type": "stream",
     "text": [
      "[I 2025-07-08 03:46:05,069] Trial 38 finished with value: 0.679426639509488 and parameters: {'learning_rate': 0.005159782873989242, 'max_leaf_nodes': 203, 'max_depth': 6, 'min_samples_leaf': 83, 'l2_regularization': 1.5937069712158487}. Best is trial 30 with value: 0.7146181722399032.\n"
     ]
    },
    {
     "name": "stderr",
     "output_type": "stream",
     "text": [
      "Best trial: 30. Best value: 0.714618:  40%|████      | 40/100 [04:57<07:37,  7.63s/it]/tmp/ipykernel_7726/1741534080.py:11: FutureWarning: suggest_loguniform has been deprecated in v3.0.0. This feature will be removed in v6.0.0. See https://github.com/optuna/optuna/releases/tag/v3.0.0. Use suggest_float(..., log=True) instead.\n",
      "  'gb__learning_rate':     trial.suggest_loguniform('learning_rate', 1e-3, 0.3),\n",
      "/tmp/ipykernel_7726/1741534080.py:15: FutureWarning: suggest_uniform has been deprecated in v3.0.0. This feature will be removed in v6.0.0. See https://github.com/optuna/optuna/releases/tag/v3.0.0. Use suggest_float instead.\n",
      "  'gb__l2_regularization': trial.suggest_uniform('l2_regularization', 0.0, 2.0)\n"
     ]
    },
    {
     "name": "stdout",
     "output_type": "stream",
     "text": [
      "[I 2025-07-08 03:46:12,334] Trial 39 finished with value: 0.6060211717967413 and parameters: {'learning_rate': 0.0010014961496868477, 'max_leaf_nodes': 177, 'max_depth': 2, 'min_samples_leaf': 53, 'l2_regularization': 1.002767199203275}. Best is trial 30 with value: 0.7146181722399032.\n"
     ]
    },
    {
     "name": "stderr",
     "output_type": "stream",
     "text": [
      "Best trial: 30. Best value: 0.714618:  41%|████      | 41/100 [05:12<09:33,  9.71s/it]/tmp/ipykernel_7726/1741534080.py:11: FutureWarning: suggest_loguniform has been deprecated in v3.0.0. This feature will be removed in v6.0.0. See https://github.com/optuna/optuna/releases/tag/v3.0.0. Use suggest_float(..., log=True) instead.\n",
      "  'gb__learning_rate':     trial.suggest_loguniform('learning_rate', 1e-3, 0.3),\n",
      "/tmp/ipykernel_7726/1741534080.py:15: FutureWarning: suggest_uniform has been deprecated in v3.0.0. This feature will be removed in v6.0.0. See https://github.com/optuna/optuna/releases/tag/v3.0.0. Use suggest_float instead.\n",
      "  'gb__l2_regularization': trial.suggest_uniform('l2_regularization', 0.0, 2.0)\n"
     ]
    },
    {
     "name": "stdout",
     "output_type": "stream",
     "text": [
      "[I 2025-07-08 03:46:26,910] Trial 40 finished with value: 0.7099797236069781 and parameters: {'learning_rate': 0.02226370042489073, 'max_leaf_nodes': 251, 'max_depth': 8, 'min_samples_leaf': 70, 'l2_regularization': 1.3669360138900493}. Best is trial 30 with value: 0.7146181722399032.\n"
     ]
    },
    {
     "name": "stderr",
     "output_type": "stream",
     "text": [
      "Best trial: 30. Best value: 0.714618:  42%|████▏     | 42/100 [05:15<07:26,  7.71s/it]/tmp/ipykernel_7726/1741534080.py:11: FutureWarning: suggest_loguniform has been deprecated in v3.0.0. This feature will be removed in v6.0.0. See https://github.com/optuna/optuna/releases/tag/v3.0.0. Use suggest_float(..., log=True) instead.\n",
      "  'gb__learning_rate':     trial.suggest_loguniform('learning_rate', 1e-3, 0.3),\n",
      "/tmp/ipykernel_7726/1741534080.py:15: FutureWarning: suggest_uniform has been deprecated in v3.0.0. This feature will be removed in v6.0.0. See https://github.com/optuna/optuna/releases/tag/v3.0.0. Use suggest_float instead.\n",
      "  'gb__l2_regularization': trial.suggest_uniform('l2_regularization', 0.0, 2.0)\n"
     ]
    },
    {
     "name": "stdout",
     "output_type": "stream",
     "text": [
      "[I 2025-07-08 03:46:29,936] Trial 41 finished with value: 0.7127419482365918 and parameters: {'learning_rate': 0.23544058022285047, 'max_leaf_nodes': 184, 'max_depth': 4, 'min_samples_leaf': 21, 'l2_regularization': 1.7131133883995693}. Best is trial 30 with value: 0.7146181722399032.\n"
     ]
    },
    {
     "name": "stderr",
     "output_type": "stream",
     "text": [
      "Best trial: 30. Best value: 0.714618:  43%|████▎     | 43/100 [05:19<06:25,  6.76s/it]/tmp/ipykernel_7726/1741534080.py:11: FutureWarning: suggest_loguniform has been deprecated in v3.0.0. This feature will be removed in v6.0.0. See https://github.com/optuna/optuna/releases/tag/v3.0.0. Use suggest_float(..., log=True) instead.\n",
      "  'gb__learning_rate':     trial.suggest_loguniform('learning_rate', 1e-3, 0.3),\n",
      "/tmp/ipykernel_7726/1741534080.py:15: FutureWarning: suggest_uniform has been deprecated in v3.0.0. This feature will be removed in v6.0.0. See https://github.com/optuna/optuna/releases/tag/v3.0.0. Use suggest_float instead.\n",
      "  'gb__l2_regularization': trial.suggest_uniform('l2_regularization', 0.0, 2.0)\n"
     ]
    },
    {
     "name": "stdout",
     "output_type": "stream",
     "text": [
      "[I 2025-07-08 03:46:34,503] Trial 42 finished with value: 0.7135518199233809 and parameters: {'learning_rate': 0.14488602378852497, 'max_leaf_nodes': 194, 'max_depth': 4, 'min_samples_leaf': 10, 'l2_regularization': 1.2066518752240105}. Best is trial 30 with value: 0.7146181722399032.\n"
     ]
    },
    {
     "name": "stderr",
     "output_type": "stream",
     "text": [
      "Best trial: 30. Best value: 0.714618:  44%|████▍     | 44/100 [05:27<06:30,  6.98s/it]/tmp/ipykernel_7726/1741534080.py:11: FutureWarning: suggest_loguniform has been deprecated in v3.0.0. This feature will be removed in v6.0.0. See https://github.com/optuna/optuna/releases/tag/v3.0.0. Use suggest_float(..., log=True) instead.\n",
      "  'gb__learning_rate':     trial.suggest_loguniform('learning_rate', 1e-3, 0.3),\n",
      "/tmp/ipykernel_7726/1741534080.py:15: FutureWarning: suggest_uniform has been deprecated in v3.0.0. This feature will be removed in v6.0.0. See https://github.com/optuna/optuna/releases/tag/v3.0.0. Use suggest_float instead.\n",
      "  'gb__l2_regularization': trial.suggest_uniform('l2_regularization', 0.0, 2.0)\n"
     ]
    },
    {
     "name": "stdout",
     "output_type": "stream",
     "text": [
      "[I 2025-07-08 03:46:41,972] Trial 43 finished with value: 0.7123593389712014 and parameters: {'learning_rate': 0.08257470316016403, 'max_leaf_nodes': 156, 'max_depth': 3, 'min_samples_leaf': 32, 'l2_regularization': 0.1201733317023391}. Best is trial 30 with value: 0.7146181722399032.\n"
     ]
    },
    {
     "name": "stderr",
     "output_type": "stream",
     "text": [
      "Best trial: 30. Best value: 0.714618:  45%|████▌     | 45/100 [05:30<05:21,  5.85s/it]/tmp/ipykernel_7726/1741534080.py:11: FutureWarning: suggest_loguniform has been deprecated in v3.0.0. This feature will be removed in v6.0.0. See https://github.com/optuna/optuna/releases/tag/v3.0.0. Use suggest_float(..., log=True) instead.\n",
      "  'gb__learning_rate':     trial.suggest_loguniform('learning_rate', 1e-3, 0.3),\n",
      "/tmp/ipykernel_7726/1741534080.py:15: FutureWarning: suggest_uniform has been deprecated in v3.0.0. This feature will be removed in v6.0.0. See https://github.com/optuna/optuna/releases/tag/v3.0.0. Use suggest_float instead.\n",
      "  'gb__l2_regularization': trial.suggest_uniform('l2_regularization', 0.0, 2.0)\n"
     ]
    },
    {
     "name": "stdout",
     "output_type": "stream",
     "text": [
      "[I 2025-07-08 03:46:45,194] Trial 44 finished with value: 0.7132084328097321 and parameters: {'learning_rate': 0.25868417539467886, 'max_leaf_nodes': 181, 'max_depth': 4, 'min_samples_leaf': 45, 'l2_regularization': 0.3570535880429473}. Best is trial 30 with value: 0.7146181722399032.\n"
     ]
    },
    {
     "name": "stderr",
     "output_type": "stream",
     "text": [
      "Best trial: 30. Best value: 0.714618:  46%|████▌     | 46/100 [05:39<06:05,  6.77s/it]/tmp/ipykernel_7726/1741534080.py:11: FutureWarning: suggest_loguniform has been deprecated in v3.0.0. This feature will be removed in v6.0.0. See https://github.com/optuna/optuna/releases/tag/v3.0.0. Use suggest_float(..., log=True) instead.\n",
      "  'gb__learning_rate':     trial.suggest_loguniform('learning_rate', 1e-3, 0.3),\n",
      "/tmp/ipykernel_7726/1741534080.py:15: FutureWarning: suggest_uniform has been deprecated in v3.0.0. This feature will be removed in v6.0.0. See https://github.com/optuna/optuna/releases/tag/v3.0.0. Use suggest_float instead.\n",
      "  'gb__l2_regularization': trial.suggest_uniform('l2_regularization', 0.0, 2.0)\n"
     ]
    },
    {
     "name": "stdout",
     "output_type": "stream",
     "text": [
      "[I 2025-07-08 03:46:54,125] Trial 45 finished with value: 0.7123233604704182 and parameters: {'learning_rate': 0.0546073486641782, 'max_leaf_nodes': 139, 'max_depth': 5, 'min_samples_leaf': 16, 'l2_regularization': 1.5217629180104248}. Best is trial 30 with value: 0.7146181722399032.\n"
     ]
    },
    {
     "name": "stderr",
     "output_type": "stream",
     "text": [
      "Best trial: 30. Best value: 0.714618:  47%|████▋     | 47/100 [05:46<06:00,  6.81s/it]/tmp/ipykernel_7726/1741534080.py:11: FutureWarning: suggest_loguniform has been deprecated in v3.0.0. This feature will be removed in v6.0.0. See https://github.com/optuna/optuna/releases/tag/v3.0.0. Use suggest_float(..., log=True) instead.\n",
      "  'gb__learning_rate':     trial.suggest_loguniform('learning_rate', 1e-3, 0.3),\n",
      "/tmp/ipykernel_7726/1741534080.py:15: FutureWarning: suggest_uniform has been deprecated in v3.0.0. This feature will be removed in v6.0.0. See https://github.com/optuna/optuna/releases/tag/v3.0.0. Use suggest_float instead.\n",
      "  'gb__l2_regularization': trial.suggest_uniform('l2_regularization', 0.0, 2.0)\n"
     ]
    },
    {
     "name": "stdout",
     "output_type": "stream",
     "text": [
      "[I 2025-07-08 03:47:01,017] Trial 46 finished with value: 0.7109174183019147 and parameters: {'learning_rate': 0.12590772840779493, 'max_leaf_nodes': 200, 'max_depth': 2, 'min_samples_leaf': 133, 'l2_regularization': 0.005209011303532265}. Best is trial 30 with value: 0.7146181722399032.\n"
     ]
    },
    {
     "name": "stderr",
     "output_type": "stream",
     "text": [
      "Best trial: 30. Best value: 0.714618:  48%|████▊     | 48/100 [05:49<05:03,  5.85s/it]/tmp/ipykernel_7726/1741534080.py:11: FutureWarning: suggest_loguniform has been deprecated in v3.0.0. This feature will be removed in v6.0.0. See https://github.com/optuna/optuna/releases/tag/v3.0.0. Use suggest_float(..., log=True) instead.\n",
      "  'gb__learning_rate':     trial.suggest_loguniform('learning_rate', 1e-3, 0.3),\n",
      "/tmp/ipykernel_7726/1741534080.py:15: FutureWarning: suggest_uniform has been deprecated in v3.0.0. This feature will be removed in v6.0.0. See https://github.com/optuna/optuna/releases/tag/v3.0.0. Use suggest_float instead.\n",
      "  'gb__l2_regularization': trial.suggest_uniform('l2_regularization', 0.0, 2.0)\n"
     ]
    },
    {
     "name": "stdout",
     "output_type": "stream",
     "text": [
      "[I 2025-07-08 03:47:04,613] Trial 47 finished with value: 0.7140978663058671 and parameters: {'learning_rate': 0.22510764832509914, 'max_leaf_nodes': 112, 'max_depth': 4, 'min_samples_leaf': 17, 'l2_regularization': 0.9951566685272867}. Best is trial 30 with value: 0.7146181722399032.\n"
     ]
    },
    {
     "name": "stderr",
     "output_type": "stream",
     "text": [
      "Best trial: 30. Best value: 0.714618:  49%|████▉     | 49/100 [05:57<05:22,  6.33s/it]/tmp/ipykernel_7726/1741534080.py:11: FutureWarning: suggest_loguniform has been deprecated in v3.0.0. This feature will be removed in v6.0.0. See https://github.com/optuna/optuna/releases/tag/v3.0.0. Use suggest_float(..., log=True) instead.\n",
      "  'gb__learning_rate':     trial.suggest_loguniform('learning_rate', 1e-3, 0.3),\n",
      "/tmp/ipykernel_7726/1741534080.py:15: FutureWarning: suggest_uniform has been deprecated in v3.0.0. This feature will be removed in v6.0.0. See https://github.com/optuna/optuna/releases/tag/v3.0.0. Use suggest_float instead.\n",
      "  'gb__l2_regularization': trial.suggest_uniform('l2_regularization', 0.0, 2.0)\n"
     ]
    },
    {
     "name": "stdout",
     "output_type": "stream",
     "text": [
      "[I 2025-07-08 03:47:12,077] Trial 48 finished with value: 0.7140627663555359 and parameters: {'learning_rate': 0.09657333922039221, 'max_leaf_nodes': 104, 'max_depth': 3, 'min_samples_leaf': 29, 'l2_regularization': 1.8113716048433264}. Best is trial 30 with value: 0.7146181722399032.\n"
     ]
    },
    {
     "name": "stderr",
     "output_type": "stream",
     "text": [
      "Best trial: 30. Best value: 0.714618:  50%|█████     | 50/100 [06:04<05:28,  6.58s/it]/tmp/ipykernel_7726/1741534080.py:11: FutureWarning: suggest_loguniform has been deprecated in v3.0.0. This feature will be removed in v6.0.0. See https://github.com/optuna/optuna/releases/tag/v3.0.0. Use suggest_float(..., log=True) instead.\n",
      "  'gb__learning_rate':     trial.suggest_loguniform('learning_rate', 1e-3, 0.3),\n",
      "/tmp/ipykernel_7726/1741534080.py:15: FutureWarning: suggest_uniform has been deprecated in v3.0.0. This feature will be removed in v6.0.0. See https://github.com/optuna/optuna/releases/tag/v3.0.0. Use suggest_float instead.\n",
      "  'gb__l2_regularization': trial.suggest_uniform('l2_regularization', 0.0, 2.0)\n"
     ]
    },
    {
     "name": "stdout",
     "output_type": "stream",
     "text": [
      "[I 2025-07-08 03:47:19,236] Trial 49 finished with value: 0.7126718913297541 and parameters: {'learning_rate': 0.09611237328132329, 'max_leaf_nodes': 102, 'max_depth': 3, 'min_samples_leaf': 29, 'l2_regularization': 1.8365972865163855}. Best is trial 30 with value: 0.7146181722399032.\n"
     ]
    },
    {
     "name": "stderr",
     "output_type": "stream",
     "text": [
      "Best trial: 30. Best value: 0.714618:  51%|█████     | 51/100 [06:11<05:24,  6.62s/it]/tmp/ipykernel_7726/1741534080.py:11: FutureWarning: suggest_loguniform has been deprecated in v3.0.0. This feature will be removed in v6.0.0. See https://github.com/optuna/optuna/releases/tag/v3.0.0. Use suggest_float(..., log=True) instead.\n",
      "  'gb__learning_rate':     trial.suggest_loguniform('learning_rate', 1e-3, 0.3),\n",
      "/tmp/ipykernel_7726/1741534080.py:15: FutureWarning: suggest_uniform has been deprecated in v3.0.0. This feature will be removed in v6.0.0. See https://github.com/optuna/optuna/releases/tag/v3.0.0. Use suggest_float instead.\n",
      "  'gb__l2_regularization': trial.suggest_uniform('l2_regularization', 0.0, 2.0)\n"
     ]
    },
    {
     "name": "stdout",
     "output_type": "stream",
     "text": [
      "[I 2025-07-08 03:47:25,933] Trial 50 finished with value: 0.7131350876465546 and parameters: {'learning_rate': 0.17560690191457468, 'max_leaf_nodes': 101, 'max_depth': 2, 'min_samples_leaf': 59, 'l2_regularization': 1.739000678991666}. Best is trial 30 with value: 0.7146181722399032.\n"
     ]
    },
    {
     "name": "stderr",
     "output_type": "stream",
     "text": [
      "Best trial: 30. Best value: 0.714618:  52%|█████▏    | 52/100 [06:15<04:38,  5.80s/it]/tmp/ipykernel_7726/1741534080.py:11: FutureWarning: suggest_loguniform has been deprecated in v3.0.0. This feature will be removed in v6.0.0. See https://github.com/optuna/optuna/releases/tag/v3.0.0. Use suggest_float(..., log=True) instead.\n",
      "  'gb__learning_rate':     trial.suggest_loguniform('learning_rate', 1e-3, 0.3),\n",
      "/tmp/ipykernel_7726/1741534080.py:15: FutureWarning: suggest_uniform has been deprecated in v3.0.0. This feature will be removed in v6.0.0. See https://github.com/optuna/optuna/releases/tag/v3.0.0. Use suggest_float instead.\n",
      "  'gb__l2_regularization': trial.suggest_uniform('l2_regularization', 0.0, 2.0)\n"
     ]
    },
    {
     "name": "stdout",
     "output_type": "stream",
     "text": [
      "[I 2025-07-08 03:47:29,832] Trial 51 finished with value: 0.7134413244294714 and parameters: {'learning_rate': 0.21991703483495906, 'max_leaf_nodes': 69, 'max_depth': 3, 'min_samples_leaf': 45, 'l2_regularization': 0.8803939237994405}. Best is trial 30 with value: 0.7146181722399032.\n"
     ]
    },
    {
     "name": "stderr",
     "output_type": "stream",
     "text": [
      "Best trial: 30. Best value: 0.714618:  53%|█████▎    | 53/100 [06:25<05:33,  7.10s/it]/tmp/ipykernel_7726/1741534080.py:11: FutureWarning: suggest_loguniform has been deprecated in v3.0.0. This feature will be removed in v6.0.0. See https://github.com/optuna/optuna/releases/tag/v3.0.0. Use suggest_float(..., log=True) instead.\n",
      "  'gb__learning_rate':     trial.suggest_loguniform('learning_rate', 1e-3, 0.3),\n",
      "/tmp/ipykernel_7726/1741534080.py:15: FutureWarning: suggest_uniform has been deprecated in v3.0.0. This feature will be removed in v6.0.0. See https://github.com/optuna/optuna/releases/tag/v3.0.0. Use suggest_float instead.\n",
      "  'gb__l2_regularization': trial.suggest_uniform('l2_regularization', 0.0, 2.0)\n"
     ]
    },
    {
     "name": "stdout",
     "output_type": "stream",
     "text": [
      "[I 2025-07-08 03:47:39,952] Trial 52 finished with value: 0.6388536470932655 and parameters: {'learning_rate': 0.001559507803768658, 'max_leaf_nodes': 117, 'max_depth': 4, 'min_samples_leaf': 19, 'l2_regularization': 1.937689036064743}. Best is trial 30 with value: 0.7146181722399032.\n"
     ]
    },
    {
     "name": "stderr",
     "output_type": "stream",
     "text": [
      "Best trial: 30. Best value: 0.714618:  54%|█████▍    | 54/100 [06:30<04:59,  6.51s/it]/tmp/ipykernel_7726/1741534080.py:11: FutureWarning: suggest_loguniform has been deprecated in v3.0.0. This feature will be removed in v6.0.0. See https://github.com/optuna/optuna/releases/tag/v3.0.0. Use suggest_float(..., log=True) instead.\n",
      "  'gb__learning_rate':     trial.suggest_loguniform('learning_rate', 1e-3, 0.3),\n",
      "/tmp/ipykernel_7726/1741534080.py:15: FutureWarning: suggest_uniform has been deprecated in v3.0.0. This feature will be removed in v6.0.0. See https://github.com/optuna/optuna/releases/tag/v3.0.0. Use suggest_float instead.\n",
      "  'gb__l2_regularization': trial.suggest_uniform('l2_regularization', 0.0, 2.0)\n"
     ]
    },
    {
     "name": "stdout",
     "output_type": "stream",
     "text": [
      "[I 2025-07-08 03:47:45,087] Trial 53 finished with value: 0.7134166730406453 and parameters: {'learning_rate': 0.13837346977265863, 'max_leaf_nodes': 78, 'max_depth': 3, 'min_samples_leaf': 34, 'l2_regularization': 1.4221255719710908}. Best is trial 30 with value: 0.7146181722399032.\n"
     ]
    },
    {
     "name": "stderr",
     "output_type": "stream",
     "text": [
      "Best trial: 30. Best value: 0.714618:  55%|█████▌    | 55/100 [06:33<04:12,  5.61s/it]/tmp/ipykernel_7726/1741534080.py:11: FutureWarning: suggest_loguniform has been deprecated in v3.0.0. This feature will be removed in v6.0.0. See https://github.com/optuna/optuna/releases/tag/v3.0.0. Use suggest_float(..., log=True) instead.\n",
      "  'gb__learning_rate':     trial.suggest_loguniform('learning_rate', 1e-3, 0.3),\n",
      "/tmp/ipykernel_7726/1741534080.py:15: FutureWarning: suggest_uniform has been deprecated in v3.0.0. This feature will be removed in v6.0.0. See https://github.com/optuna/optuna/releases/tag/v3.0.0. Use suggest_float instead.\n",
      "  'gb__l2_regularization': trial.suggest_uniform('l2_regularization', 0.0, 2.0)\n"
     ]
    },
    {
     "name": "stdout",
     "output_type": "stream",
     "text": [
      "[I 2025-07-08 03:47:48,590] Trial 54 finished with value: 0.7114086463774276 and parameters: {'learning_rate': 0.2283858548533953, 'max_leaf_nodes': 128, 'max_depth': 5, 'min_samples_leaf': 156, 'l2_regularization': 1.0085799829635422}. Best is trial 30 with value: 0.7146181722399032.\n"
     ]
    },
    {
     "name": "stderr",
     "output_type": "stream",
     "text": [
      "Best trial: 30. Best value: 0.714618:  56%|█████▌    | 56/100 [06:38<03:47,  5.17s/it]/tmp/ipykernel_7726/1741534080.py:11: FutureWarning: suggest_loguniform has been deprecated in v3.0.0. This feature will be removed in v6.0.0. See https://github.com/optuna/optuna/releases/tag/v3.0.0. Use suggest_float(..., log=True) instead.\n",
      "  'gb__learning_rate':     trial.suggest_loguniform('learning_rate', 1e-3, 0.3),\n",
      "/tmp/ipykernel_7726/1741534080.py:15: FutureWarning: suggest_uniform has been deprecated in v3.0.0. This feature will be removed in v6.0.0. See https://github.com/optuna/optuna/releases/tag/v3.0.0. Use suggest_float instead.\n",
      "  'gb__l2_regularization': trial.suggest_uniform('l2_regularization', 0.0, 2.0)\n"
     ]
    },
    {
     "name": "stdout",
     "output_type": "stream",
     "text": [
      "[I 2025-07-08 03:47:52,734] Trial 55 finished with value: 0.7137767404770974 and parameters: {'learning_rate': 0.1688982295840629, 'max_leaf_nodes': 107, 'max_depth': 4, 'min_samples_leaf': 28, 'l2_regularization': 0.8036424397080393}. Best is trial 30 with value: 0.7146181722399032.\n"
     ]
    },
    {
     "name": "stderr",
     "output_type": "stream",
     "text": [
      "Best trial: 30. Best value: 0.714618:  57%|█████▋    | 57/100 [06:41<03:23,  4.73s/it]/tmp/ipykernel_7726/1741534080.py:11: FutureWarning: suggest_loguniform has been deprecated in v3.0.0. This feature will be removed in v6.0.0. See https://github.com/optuna/optuna/releases/tag/v3.0.0. Use suggest_float(..., log=True) instead.\n",
      "  'gb__learning_rate':     trial.suggest_loguniform('learning_rate', 1e-3, 0.3),\n",
      "/tmp/ipykernel_7726/1741534080.py:15: FutureWarning: suggest_uniform has been deprecated in v3.0.0. This feature will be removed in v6.0.0. See https://github.com/optuna/optuna/releases/tag/v3.0.0. Use suggest_float instead.\n",
      "  'gb__l2_regularization': trial.suggest_uniform('l2_regularization', 0.0, 2.0)\n"
     ]
    },
    {
     "name": "stdout",
     "output_type": "stream",
     "text": [
      "[I 2025-07-08 03:47:56,460] Trial 56 finished with value: 0.7139831556086801 and parameters: {'learning_rate': 0.2985342290713657, 'max_leaf_nodes': 94, 'max_depth': 3, 'min_samples_leaf': 17, 'l2_regularization': 1.5674179687204925}. Best is trial 30 with value: 0.7146181722399032.\n"
     ]
    },
    {
     "name": "stderr",
     "output_type": "stream",
     "text": [
      "Best trial: 30. Best value: 0.714618:  58%|█████▊    | 58/100 [06:46<03:19,  4.75s/it]/tmp/ipykernel_7726/1741534080.py:11: FutureWarning: suggest_loguniform has been deprecated in v3.0.0. This feature will be removed in v6.0.0. See https://github.com/optuna/optuna/releases/tag/v3.0.0. Use suggest_float(..., log=True) instead.\n",
      "  'gb__learning_rate':     trial.suggest_loguniform('learning_rate', 1e-3, 0.3),\n",
      "/tmp/ipykernel_7726/1741534080.py:15: FutureWarning: suggest_uniform has been deprecated in v3.0.0. This feature will be removed in v6.0.0. See https://github.com/optuna/optuna/releases/tag/v3.0.0. Use suggest_float instead.\n",
      "  'gb__l2_regularization': trial.suggest_uniform('l2_regularization', 0.0, 2.0)\n"
     ]
    },
    {
     "name": "stdout",
     "output_type": "stream",
     "text": [
      "[I 2025-07-08 03:48:01,248] Trial 57 finished with value: 0.7136413075494337 and parameters: {'learning_rate': 0.28013664594431076, 'max_leaf_nodes': 44, 'max_depth': 2, 'min_samples_leaf': 18, 'l2_regularization': 1.6469715339257813}. Best is trial 30 with value: 0.7146181722399032.\n"
     ]
    },
    {
     "name": "stderr",
     "output_type": "stream",
     "text": [
      "Best trial: 30. Best value: 0.714618:  59%|█████▉    | 59/100 [06:53<03:39,  5.34s/it]/tmp/ipykernel_7726/1741534080.py:11: FutureWarning: suggest_loguniform has been deprecated in v3.0.0. This feature will be removed in v6.0.0. See https://github.com/optuna/optuna/releases/tag/v3.0.0. Use suggest_float(..., log=True) instead.\n",
      "  'gb__learning_rate':     trial.suggest_loguniform('learning_rate', 1e-3, 0.3),\n",
      "/tmp/ipykernel_7726/1741534080.py:15: FutureWarning: suggest_uniform has been deprecated in v3.0.0. This feature will be removed in v6.0.0. See https://github.com/optuna/optuna/releases/tag/v3.0.0. Use suggest_float instead.\n",
      "  'gb__l2_regularization': trial.suggest_uniform('l2_regularization', 0.0, 2.0)\n"
     ]
    },
    {
     "name": "stdout",
     "output_type": "stream",
     "text": [
      "[I 2025-07-08 03:48:07,973] Trial 58 finished with value: 0.7125932729945135 and parameters: {'learning_rate': 0.10319578455657422, 'max_leaf_nodes': 78, 'max_depth': 3, 'min_samples_leaf': 26, 'l2_regularization': 0.5467427467920791}. Best is trial 30 with value: 0.7146181722399032.\n"
     ]
    },
    {
     "name": "stderr",
     "output_type": "stream",
     "text": [
      "Best trial: 30. Best value: 0.714618:  60%|██████    | 60/100 [06:56<03:05,  4.64s/it]/tmp/ipykernel_7726/1741534080.py:11: FutureWarning: suggest_loguniform has been deprecated in v3.0.0. This feature will be removed in v6.0.0. See https://github.com/optuna/optuna/releases/tag/v3.0.0. Use suggest_float(..., log=True) instead.\n",
      "  'gb__learning_rate':     trial.suggest_loguniform('learning_rate', 1e-3, 0.3),\n",
      "/tmp/ipykernel_7726/1741534080.py:15: FutureWarning: suggest_uniform has been deprecated in v3.0.0. This feature will be removed in v6.0.0. See https://github.com/optuna/optuna/releases/tag/v3.0.0. Use suggest_float instead.\n",
      "  'gb__l2_regularization': trial.suggest_uniform('l2_regularization', 0.0, 2.0)\n"
     ]
    },
    {
     "name": "stdout",
     "output_type": "stream",
     "text": [
      "[I 2025-07-08 03:48:10,984] Trial 59 finished with value: 0.7126488498279375 and parameters: {'learning_rate': 0.29855361261891367, 'max_leaf_nodes': 84, 'max_depth': 3, 'min_samples_leaf': 40, 'l2_regularization': 1.9056672625040898}. Best is trial 30 with value: 0.7146181722399032.\n"
     ]
    },
    {
     "name": "stderr",
     "output_type": "stream",
     "text": [
      "Best trial: 30. Best value: 0.714618:  61%|██████    | 61/100 [07:02<03:20,  5.14s/it]/tmp/ipykernel_7726/1741534080.py:11: FutureWarning: suggest_loguniform has been deprecated in v3.0.0. This feature will be removed in v6.0.0. See https://github.com/optuna/optuna/releases/tag/v3.0.0. Use suggest_float(..., log=True) instead.\n",
      "  'gb__learning_rate':     trial.suggest_loguniform('learning_rate', 1e-3, 0.3),\n",
      "/tmp/ipykernel_7726/1741534080.py:15: FutureWarning: suggest_uniform has been deprecated in v3.0.0. This feature will be removed in v6.0.0. See https://github.com/optuna/optuna/releases/tag/v3.0.0. Use suggest_float instead.\n",
      "  'gb__l2_regularization': trial.suggest_uniform('l2_regularization', 0.0, 2.0)\n"
     ]
    },
    {
     "name": "stdout",
     "output_type": "stream",
     "text": [
      "[I 2025-07-08 03:48:17,287] Trial 60 finished with value: 0.7137778117097155 and parameters: {'learning_rate': 0.1920166620822994, 'max_leaf_nodes': 98, 'max_depth': 2, 'min_samples_leaf': 47, 'l2_regularization': 1.7841136323010975}. Best is trial 30 with value: 0.7146181722399032.\n"
     ]
    },
    {
     "name": "stderr",
     "output_type": "stream",
     "text": [
      "Best trial: 30. Best value: 0.714618:  62%|██████▏   | 62/100 [07:05<02:52,  4.55s/it]/tmp/ipykernel_7726/1741534080.py:11: FutureWarning: suggest_loguniform has been deprecated in v3.0.0. This feature will be removed in v6.0.0. See https://github.com/optuna/optuna/releases/tag/v3.0.0. Use suggest_float(..., log=True) instead.\n",
      "  'gb__learning_rate':     trial.suggest_loguniform('learning_rate', 1e-3, 0.3),\n",
      "/tmp/ipykernel_7726/1741534080.py:15: FutureWarning: suggest_uniform has been deprecated in v3.0.0. This feature will be removed in v6.0.0. See https://github.com/optuna/optuna/releases/tag/v3.0.0. Use suggest_float instead.\n",
      "  'gb__l2_regularization': trial.suggest_uniform('l2_regularization', 0.0, 2.0)\n"
     ]
    },
    {
     "name": "stdout",
     "output_type": "stream",
     "text": [
      "[I 2025-07-08 03:48:20,444] Trial 61 finished with value: 0.7128538377974233 and parameters: {'learning_rate': 0.24300428295490187, 'max_leaf_nodes': 134, 'max_depth': 4, 'min_samples_leaf': 15, 'l2_regularization': 1.3476993143155385}. Best is trial 30 with value: 0.7146181722399032.\n"
     ]
    },
    {
     "name": "stderr",
     "output_type": "stream",
     "text": [
      "Best trial: 30. Best value: 0.714618:  63%|██████▎   | 63/100 [07:09<02:42,  4.40s/it]/tmp/ipykernel_7726/1741534080.py:11: FutureWarning: suggest_loguniform has been deprecated in v3.0.0. This feature will be removed in v6.0.0. See https://github.com/optuna/optuna/releases/tag/v3.0.0. Use suggest_float(..., log=True) instead.\n",
      "  'gb__learning_rate':     trial.suggest_loguniform('learning_rate', 1e-3, 0.3),\n",
      "/tmp/ipykernel_7726/1741534080.py:15: FutureWarning: suggest_uniform has been deprecated in v3.0.0. This feature will be removed in v6.0.0. See https://github.com/optuna/optuna/releases/tag/v3.0.0. Use suggest_float instead.\n",
      "  'gb__l2_regularization': trial.suggest_uniform('l2_regularization', 0.0, 2.0)\n"
     ]
    },
    {
     "name": "stdout",
     "output_type": "stream",
     "text": [
      "[I 2025-07-08 03:48:24,495] Trial 62 finished with value: 0.7135262166652019 and parameters: {'learning_rate': 0.15718177143115625, 'max_leaf_nodes': 118, 'max_depth': 4, 'min_samples_leaf': 10, 'l2_regularization': 1.5289240061652007}. Best is trial 30 with value: 0.7146181722399032.\n"
     ]
    },
    {
     "name": "stderr",
     "output_type": "stream",
     "text": [
      "Best trial: 30. Best value: 0.714618:  64%|██████▍   | 64/100 [07:14<02:39,  4.43s/it]/tmp/ipykernel_7726/1741534080.py:11: FutureWarning: suggest_loguniform has been deprecated in v3.0.0. This feature will be removed in v6.0.0. See https://github.com/optuna/optuna/releases/tag/v3.0.0. Use suggest_float(..., log=True) instead.\n",
      "  'gb__learning_rate':     trial.suggest_loguniform('learning_rate', 1e-3, 0.3),\n",
      "/tmp/ipykernel_7726/1741534080.py:15: FutureWarning: suggest_uniform has been deprecated in v3.0.0. This feature will be removed in v6.0.0. See https://github.com/optuna/optuna/releases/tag/v3.0.0. Use suggest_float instead.\n",
      "  'gb__l2_regularization': trial.suggest_uniform('l2_regularization', 0.0, 2.0)\n"
     ]
    },
    {
     "name": "stdout",
     "output_type": "stream",
     "text": [
      "[I 2025-07-08 03:48:29,006] Trial 63 finished with value: 0.7127086407918668 and parameters: {'learning_rate': 0.19766943577284257, 'max_leaf_nodes': 163, 'max_depth': 3, 'min_samples_leaf': 31, 'l2_regularization': 0.4477229332982504}. Best is trial 30 with value: 0.7146181722399032.\n"
     ]
    },
    {
     "name": "stderr",
     "output_type": "stream",
     "text": [
      "Best trial: 30. Best value: 0.714618:  65%|██████▌   | 65/100 [07:17<02:18,  3.97s/it]/tmp/ipykernel_7726/1741534080.py:11: FutureWarning: suggest_loguniform has been deprecated in v3.0.0. This feature will be removed in v6.0.0. See https://github.com/optuna/optuna/releases/tag/v3.0.0. Use suggest_float(..., log=True) instead.\n",
      "  'gb__learning_rate':     trial.suggest_loguniform('learning_rate', 1e-3, 0.3),\n",
      "/tmp/ipykernel_7726/1741534080.py:15: FutureWarning: suggest_uniform has been deprecated in v3.0.0. This feature will be removed in v6.0.0. See https://github.com/optuna/optuna/releases/tag/v3.0.0. Use suggest_float instead.\n",
      "  'gb__l2_regularization': trial.suggest_uniform('l2_regularization', 0.0, 2.0)\n"
     ]
    },
    {
     "name": "stdout",
     "output_type": "stream",
     "text": [
      "[I 2025-07-08 03:48:31,900] Trial 64 finished with value: 0.7134657736275445 and parameters: {'learning_rate': 0.24285246234787003, 'max_leaf_nodes': 89, 'max_depth': 5, 'min_samples_leaf': 17, 'l2_regularization': 1.6037557288166302}. Best is trial 30 with value: 0.7146181722399032.\n"
     ]
    },
    {
     "name": "stderr",
     "output_type": "stream",
     "text": [
      "Best trial: 30. Best value: 0.714618:  66%|██████▌   | 66/100 [07:23<02:39,  4.70s/it]/tmp/ipykernel_7726/1741534080.py:11: FutureWarning: suggest_loguniform has been deprecated in v3.0.0. This feature will be removed in v6.0.0. See https://github.com/optuna/optuna/releases/tag/v3.0.0. Use suggest_float(..., log=True) instead.\n",
      "  'gb__learning_rate':     trial.suggest_loguniform('learning_rate', 1e-3, 0.3),\n",
      "/tmp/ipykernel_7726/1741534080.py:15: FutureWarning: suggest_uniform has been deprecated in v3.0.0. This feature will be removed in v6.0.0. See https://github.com/optuna/optuna/releases/tag/v3.0.0. Use suggest_float instead.\n",
      "  'gb__l2_regularization': trial.suggest_uniform('l2_regularization', 0.0, 2.0)\n"
     ]
    },
    {
     "name": "stdout",
     "output_type": "stream",
     "text": [
      "[I 2025-07-08 03:48:38,302] Trial 65 finished with value: 0.713058011156286 and parameters: {'learning_rate': 0.12866328821249204, 'max_leaf_nodes': 175, 'max_depth': 3, 'min_samples_leaf': 35, 'l2_regularization': 1.6960947817135832}. Best is trial 30 with value: 0.7146181722399032.\n"
     ]
    },
    {
     "name": "stderr",
     "output_type": "stream",
     "text": [
      "Best trial: 30. Best value: 0.714618:  67%|██████▋   | 67/100 [07:33<03:26,  6.26s/it]/tmp/ipykernel_7726/1741534080.py:11: FutureWarning: suggest_loguniform has been deprecated in v3.0.0. This feature will be removed in v6.0.0. See https://github.com/optuna/optuna/releases/tag/v3.0.0. Use suggest_float(..., log=True) instead.\n",
      "  'gb__learning_rate':     trial.suggest_loguniform('learning_rate', 1e-3, 0.3),\n",
      "/tmp/ipykernel_7726/1741534080.py:15: FutureWarning: suggest_uniform has been deprecated in v3.0.0. This feature will be removed in v6.0.0. See https://github.com/optuna/optuna/releases/tag/v3.0.0. Use suggest_float instead.\n",
      "  'gb__l2_regularization': trial.suggest_uniform('l2_regularization', 0.0, 2.0)\n"
     ]
    },
    {
     "name": "stdout",
     "output_type": "stream",
     "text": [
      "[I 2025-07-08 03:48:48,187] Trial 66 finished with value: 0.6926603245737846 and parameters: {'learning_rate': 0.01263880819988903, 'max_leaf_nodes': 211, 'max_depth': 4, 'min_samples_leaf': 24, 'l2_regularization': 1.0914771432563064}. Best is trial 30 with value: 0.7146181722399032.\n"
     ]
    },
    {
     "name": "stderr",
     "output_type": "stream",
     "text": [
      "Best trial: 30. Best value: 0.714618:  68%|██████▊   | 68/100 [07:41<03:37,  6.79s/it]/tmp/ipykernel_7726/1741534080.py:11: FutureWarning: suggest_loguniform has been deprecated in v3.0.0. This feature will be removed in v6.0.0. See https://github.com/optuna/optuna/releases/tag/v3.0.0. Use suggest_float(..., log=True) instead.\n",
      "  'gb__learning_rate':     trial.suggest_loguniform('learning_rate', 1e-3, 0.3),\n",
      "/tmp/ipykernel_7726/1741534080.py:15: FutureWarning: suggest_uniform has been deprecated in v3.0.0. This feature will be removed in v6.0.0. See https://github.com/optuna/optuna/releases/tag/v3.0.0. Use suggest_float instead.\n",
      "  'gb__l2_regularization': trial.suggest_uniform('l2_regularization', 0.0, 2.0)\n"
     ]
    },
    {
     "name": "stdout",
     "output_type": "stream",
     "text": [
      "[I 2025-07-08 03:48:56,240] Trial 67 finished with value: 0.7098426240484687 and parameters: {'learning_rate': 0.06240206443690458, 'max_leaf_nodes': 152, 'max_depth': 10, 'min_samples_leaf': 110, 'l2_regularization': 1.4579690422248928}. Best is trial 30 with value: 0.7146181722399032.\n"
     ]
    },
    {
     "name": "stderr",
     "output_type": "stream",
     "text": [
      "Best trial: 30. Best value: 0.714618:  69%|██████▉   | 69/100 [07:50<03:52,  7.51s/it]/tmp/ipykernel_7726/1741534080.py:11: FutureWarning: suggest_loguniform has been deprecated in v3.0.0. This feature will be removed in v6.0.0. See https://github.com/optuna/optuna/releases/tag/v3.0.0. Use suggest_float(..., log=True) instead.\n",
      "  'gb__learning_rate':     trial.suggest_loguniform('learning_rate', 1e-3, 0.3),\n",
      "/tmp/ipykernel_7726/1741534080.py:15: FutureWarning: suggest_uniform has been deprecated in v3.0.0. This feature will be removed in v6.0.0. See https://github.com/optuna/optuna/releases/tag/v3.0.0. Use suggest_float instead.\n",
      "  'gb__l2_regularization': trial.suggest_uniform('l2_regularization', 0.0, 2.0)\n"
     ]
    },
    {
     "name": "stdout",
     "output_type": "stream",
     "text": [
      "[I 2025-07-08 03:49:05,405] Trial 68 finished with value: 0.7126415148040218 and parameters: {'learning_rate': 0.0785825837646601, 'max_leaf_nodes': 107, 'max_depth': 5, 'min_samples_leaf': 195, 'l2_regularization': 1.571025501030314}. Best is trial 30 with value: 0.7146181722399032.\n"
     ]
    },
    {
     "name": "stderr",
     "output_type": "stream",
     "text": [
      "Best trial: 30. Best value: 0.714618:  70%|███████   | 70/100 [07:55<03:18,  6.61s/it]/tmp/ipykernel_7726/1741534080.py:11: FutureWarning: suggest_loguniform has been deprecated in v3.0.0. This feature will be removed in v6.0.0. See https://github.com/optuna/optuna/releases/tag/v3.0.0. Use suggest_float(..., log=True) instead.\n",
      "  'gb__learning_rate':     trial.suggest_loguniform('learning_rate', 1e-3, 0.3),\n",
      "/tmp/ipykernel_7726/1741534080.py:15: FutureWarning: suggest_uniform has been deprecated in v3.0.0. This feature will be removed in v6.0.0. See https://github.com/optuna/optuna/releases/tag/v3.0.0. Use suggest_float instead.\n",
      "  'gb__l2_regularization': trial.suggest_uniform('l2_regularization', 0.0, 2.0)\n"
     ]
    },
    {
     "name": "stdout",
     "output_type": "stream",
     "text": [
      "[I 2025-07-08 03:49:09,911] Trial 69 finished with value: 0.713077655136886 and parameters: {'learning_rate': 0.18009063312482126, 'max_leaf_nodes': 188, 'max_depth': 3, 'min_samples_leaf': 38, 'l2_regularization': 1.307624165184044}. Best is trial 30 with value: 0.7146181722399032.\n"
     ]
    },
    {
     "name": "stderr",
     "output_type": "stream",
     "text": [
      "Best trial: 30. Best value: 0.714618:  71%|███████   | 71/100 [07:59<02:54,  6.01s/it]/tmp/ipykernel_7726/1741534080.py:11: FutureWarning: suggest_loguniform has been deprecated in v3.0.0. This feature will be removed in v6.0.0. See https://github.com/optuna/optuna/releases/tag/v3.0.0. Use suggest_float(..., log=True) instead.\n",
      "  'gb__learning_rate':     trial.suggest_loguniform('learning_rate', 1e-3, 0.3),\n",
      "/tmp/ipykernel_7726/1741534080.py:15: FutureWarning: suggest_uniform has been deprecated in v3.0.0. This feature will be removed in v6.0.0. See https://github.com/optuna/optuna/releases/tag/v3.0.0. Use suggest_float instead.\n",
      "  'gb__l2_regularization': trial.suggest_uniform('l2_regularization', 0.0, 2.0)\n"
     ]
    },
    {
     "name": "stdout",
     "output_type": "stream",
     "text": [
      "[I 2025-07-08 03:49:14,540] Trial 70 finished with value: 0.7129695733409063 and parameters: {'learning_rate': 0.29817460136060786, 'max_leaf_nodes': 144, 'max_depth': 2, 'min_samples_leaf': 54, 'l2_regularization': 1.3970019512319978}. Best is trial 30 with value: 0.7146181722399032.\n"
     ]
    },
    {
     "name": "stderr",
     "output_type": "stream",
     "text": [
      "Best trial: 30. Best value: 0.714618:  72%|███████▏  | 72/100 [08:02<02:21,  5.04s/it]/tmp/ipykernel_7726/1741534080.py:11: FutureWarning: suggest_loguniform has been deprecated in v3.0.0. This feature will be removed in v6.0.0. See https://github.com/optuna/optuna/releases/tag/v3.0.0. Use suggest_float(..., log=True) instead.\n",
      "  'gb__learning_rate':     trial.suggest_loguniform('learning_rate', 1e-3, 0.3),\n",
      "/tmp/ipykernel_7726/1741534080.py:15: FutureWarning: suggest_uniform has been deprecated in v3.0.0. This feature will be removed in v6.0.0. See https://github.com/optuna/optuna/releases/tag/v3.0.0. Use suggest_float instead.\n",
      "  'gb__l2_regularization': trial.suggest_uniform('l2_regularization', 0.0, 2.0)\n"
     ]
    },
    {
     "name": "stdout",
     "output_type": "stream",
     "text": [
      "[I 2025-07-08 03:49:17,311] Trial 71 finished with value: 0.7130702571270348 and parameters: {'learning_rate': 0.25031933687676844, 'max_leaf_nodes': 169, 'max_depth': 4, 'min_samples_leaf': 14, 'l2_regularization': 1.6620627572829552}. Best is trial 30 with value: 0.7146181722399032.\n"
     ]
    },
    {
     "name": "stderr",
     "output_type": "stream",
     "text": [
      "Best trial: 30. Best value: 0.714618:  73%|███████▎  | 73/100 [08:11<02:50,  6.30s/it]/tmp/ipykernel_7726/1741534080.py:11: FutureWarning: suggest_loguniform has been deprecated in v3.0.0. This feature will be removed in v6.0.0. See https://github.com/optuna/optuna/releases/tag/v3.0.0. Use suggest_float(..., log=True) instead.\n",
      "  'gb__learning_rate':     trial.suggest_loguniform('learning_rate', 1e-3, 0.3),\n",
      "/tmp/ipykernel_7726/1741534080.py:15: FutureWarning: suggest_uniform has been deprecated in v3.0.0. This feature will be removed in v6.0.0. See https://github.com/optuna/optuna/releases/tag/v3.0.0. Use suggest_float instead.\n",
      "  'gb__l2_regularization': trial.suggest_uniform('l2_regularization', 0.0, 2.0)\n"
     ]
    },
    {
     "name": "stdout",
     "output_type": "stream",
     "text": [
      "[I 2025-07-08 03:49:26,552] Trial 72 finished with value: 0.711801659557433 and parameters: {'learning_rate': 0.038184061278509124, 'max_leaf_nodes': 191, 'max_depth': 4, 'min_samples_leaf': 24, 'l2_regularization': 0.23114648948567737}. Best is trial 30 with value: 0.7146181722399032.\n"
     ]
    },
    {
     "name": "stderr",
     "output_type": "stream",
     "text": [
      "Best trial: 30. Best value: 0.714618:  74%|███████▍  | 74/100 [08:16<02:27,  5.68s/it]/tmp/ipykernel_7726/1741534080.py:11: FutureWarning: suggest_loguniform has been deprecated in v3.0.0. This feature will be removed in v6.0.0. See https://github.com/optuna/optuna/releases/tag/v3.0.0. Use suggest_float(..., log=True) instead.\n",
      "  'gb__learning_rate':     trial.suggest_loguniform('learning_rate', 1e-3, 0.3),\n",
      "/tmp/ipykernel_7726/1741534080.py:15: FutureWarning: suggest_uniform has been deprecated in v3.0.0. This feature will be removed in v6.0.0. See https://github.com/optuna/optuna/releases/tag/v3.0.0. Use suggest_float instead.\n",
      "  'gb__l2_regularization': trial.suggest_uniform('l2_regularization', 0.0, 2.0)\n"
     ]
    },
    {
     "name": "stdout",
     "output_type": "stream",
     "text": [
      "[I 2025-07-08 03:49:30,799] Trial 73 finished with value: 0.7141817982964772 and parameters: {'learning_rate': 0.21176147583470195, 'max_leaf_nodes': 215, 'max_depth': 3, 'min_samples_leaf': 12, 'l2_regularization': 0.1281708596568896}. Best is trial 30 with value: 0.7146181722399032.\n"
     ]
    },
    {
     "name": "stderr",
     "output_type": "stream",
     "text": [
      "Best trial: 30. Best value: 0.714618:  75%|███████▌  | 75/100 [08:18<02:00,  4.80s/it]/tmp/ipykernel_7726/1741534080.py:11: FutureWarning: suggest_loguniform has been deprecated in v3.0.0. This feature will be removed in v6.0.0. See https://github.com/optuna/optuna/releases/tag/v3.0.0. Use suggest_float(..., log=True) instead.\n",
      "  'gb__learning_rate':     trial.suggest_loguniform('learning_rate', 1e-3, 0.3),\n",
      "/tmp/ipykernel_7726/1741534080.py:15: FutureWarning: suggest_uniform has been deprecated in v3.0.0. This feature will be removed in v6.0.0. See https://github.com/optuna/optuna/releases/tag/v3.0.0. Use suggest_float instead.\n",
      "  'gb__l2_regularization': trial.suggest_uniform('l2_regularization', 0.0, 2.0)\n"
     ]
    },
    {
     "name": "stdout",
     "output_type": "stream",
     "text": [
      "[I 2025-07-08 03:49:33,547] Trial 74 finished with value: 0.711352999704847 and parameters: {'learning_rate': 0.20860442927594267, 'max_leaf_nodes': 233, 'max_depth': 6, 'min_samples_leaf': 19, 'l2_regularization': 0.1262195327696261}. Best is trial 30 with value: 0.7146181722399032.\n"
     ]
    },
    {
     "name": "stderr",
     "output_type": "stream",
     "text": [
      "Best trial: 30. Best value: 0.714618:  76%|███████▌  | 76/100 [08:23<01:56,  4.86s/it]/tmp/ipykernel_7726/1741534080.py:11: FutureWarning: suggest_loguniform has been deprecated in v3.0.0. This feature will be removed in v6.0.0. See https://github.com/optuna/optuna/releases/tag/v3.0.0. Use suggest_float(..., log=True) instead.\n",
      "  'gb__learning_rate':     trial.suggest_loguniform('learning_rate', 1e-3, 0.3),\n",
      "/tmp/ipykernel_7726/1741534080.py:15: FutureWarning: suggest_uniform has been deprecated in v3.0.0. This feature will be removed in v6.0.0. See https://github.com/optuna/optuna/releases/tag/v3.0.0. Use suggest_float instead.\n",
      "  'gb__l2_regularization': trial.suggest_uniform('l2_regularization', 0.0, 2.0)\n"
     ]
    },
    {
     "name": "stdout",
     "output_type": "stream",
     "text": [
      "[I 2025-07-08 03:49:38,523] Trial 75 finished with value: 0.7126987821317485 and parameters: {'learning_rate': 0.1524479944835404, 'max_leaf_nodes': 223, 'max_depth': 3, 'min_samples_leaf': 28, 'l2_regularization': 1.2577832494382848}. Best is trial 30 with value: 0.7146181722399032.\n"
     ]
    },
    {
     "name": "stderr",
     "output_type": "stream",
     "text": [
      "Best trial: 30. Best value: 0.714618:  77%|███████▋  | 77/100 [08:30<02:06,  5.52s/it]/tmp/ipykernel_7726/1741534080.py:11: FutureWarning: suggest_loguniform has been deprecated in v3.0.0. This feature will be removed in v6.0.0. See https://github.com/optuna/optuna/releases/tag/v3.0.0. Use suggest_float(..., log=True) instead.\n",
      "  'gb__learning_rate':     trial.suggest_loguniform('learning_rate', 1e-3, 0.3),\n",
      "/tmp/ipykernel_7726/1741534080.py:15: FutureWarning: suggest_uniform has been deprecated in v3.0.0. This feature will be removed in v6.0.0. See https://github.com/optuna/optuna/releases/tag/v3.0.0. Use suggest_float instead.\n",
      "  'gb__l2_regularization': trial.suggest_uniform('l2_regularization', 0.0, 2.0)\n"
     ]
    },
    {
     "name": "stdout",
     "output_type": "stream",
     "text": [
      "[I 2025-07-08 03:49:45,600] Trial 76 finished with value: 0.7129104057062347 and parameters: {'learning_rate': 0.11354779395347452, 'max_leaf_nodes': 211, 'max_depth': 3, 'min_samples_leaf': 13, 'l2_regularization': 0.07357598269787091}. Best is trial 30 with value: 0.7146181722399032.\n"
     ]
    },
    {
     "name": "stderr",
     "output_type": "stream",
     "text": [
      "Best trial: 30. Best value: 0.714618:  78%|███████▊  | 78/100 [08:37<02:06,  5.76s/it]/tmp/ipykernel_7726/1741534080.py:11: FutureWarning: suggest_loguniform has been deprecated in v3.0.0. This feature will be removed in v6.0.0. See https://github.com/optuna/optuna/releases/tag/v3.0.0. Use suggest_float(..., log=True) instead.\n",
      "  'gb__learning_rate':     trial.suggest_loguniform('learning_rate', 1e-3, 0.3),\n",
      "/tmp/ipykernel_7726/1741534080.py:15: FutureWarning: suggest_uniform has been deprecated in v3.0.0. This feature will be removed in v6.0.0. See https://github.com/optuna/optuna/releases/tag/v3.0.0. Use suggest_float instead.\n",
      "  'gb__l2_regularization': trial.suggest_uniform('l2_regularization', 0.0, 2.0)\n"
     ]
    },
    {
     "name": "stdout",
     "output_type": "stream",
     "text": [
      "[I 2025-07-08 03:49:51,912] Trial 77 finished with value: 0.7136693408541035 and parameters: {'learning_rate': 0.19543727927948126, 'max_leaf_nodes': 256, 'max_depth': 2, 'min_samples_leaf': 10, 'l2_regularization': 0.6189925493722479}. Best is trial 30 with value: 0.7146181722399032.\n"
     ]
    },
    {
     "name": "stderr",
     "output_type": "stream",
     "text": [
      "Best trial: 30. Best value: 0.714618:  79%|███████▉  | 79/100 [08:41<01:49,  5.22s/it]/tmp/ipykernel_7726/1741534080.py:11: FutureWarning: suggest_loguniform has been deprecated in v3.0.0. This feature will be removed in v6.0.0. See https://github.com/optuna/optuna/releases/tag/v3.0.0. Use suggest_float(..., log=True) instead.\n",
      "  'gb__learning_rate':     trial.suggest_loguniform('learning_rate', 1e-3, 0.3),\n",
      "/tmp/ipykernel_7726/1741534080.py:15: FutureWarning: suggest_uniform has been deprecated in v3.0.0. This feature will be removed in v6.0.0. See https://github.com/optuna/optuna/releases/tag/v3.0.0. Use suggest_float instead.\n",
      "  'gb__l2_regularization': trial.suggest_uniform('l2_regularization', 0.0, 2.0)\n"
     ]
    },
    {
     "name": "stdout",
     "output_type": "stream",
     "text": [
      "[I 2025-07-08 03:49:55,884] Trial 78 finished with value: 0.7132530647341471 and parameters: {'learning_rate': 0.2578265973055808, 'max_leaf_nodes': 95, 'max_depth': 3, 'min_samples_leaf': 181, 'l2_regularization': 1.7535310059063618}. Best is trial 30 with value: 0.7146181722399032.\n"
     ]
    },
    {
     "name": "stderr",
     "output_type": "stream",
     "text": [
      "Best trial: 30. Best value: 0.714618:  80%|████████  | 80/100 [08:49<02:04,  6.23s/it]/tmp/ipykernel_7726/1741534080.py:11: FutureWarning: suggest_loguniform has been deprecated in v3.0.0. This feature will be removed in v6.0.0. See https://github.com/optuna/optuna/releases/tag/v3.0.0. Use suggest_float(..., log=True) instead.\n",
      "  'gb__learning_rate':     trial.suggest_loguniform('learning_rate', 1e-3, 0.3),\n",
      "/tmp/ipykernel_7726/1741534080.py:15: FutureWarning: suggest_uniform has been deprecated in v3.0.0. This feature will be removed in v6.0.0. See https://github.com/optuna/optuna/releases/tag/v3.0.0. Use suggest_float instead.\n",
      "  'gb__l2_regularization': trial.suggest_uniform('l2_regularization', 0.0, 2.0)\n"
     ]
    },
    {
     "name": "stdout",
     "output_type": "stream",
     "text": [
      "[I 2025-07-08 03:50:04,467] Trial 79 finished with value: 0.6505679112537445 and parameters: {'learning_rate': 0.0029242197729036777, 'max_leaf_nodes': 205, 'max_depth': 3, 'min_samples_leaf': 42, 'l2_regularization': 0.2041265524967586}. Best is trial 30 with value: 0.7146181722399032.\n"
     ]
    },
    {
     "name": "stderr",
     "output_type": "stream",
     "text": [
      "Best trial: 30. Best value: 0.714618:  81%|████████  | 81/100 [08:52<01:38,  5.19s/it]/tmp/ipykernel_7726/1741534080.py:11: FutureWarning: suggest_loguniform has been deprecated in v3.0.0. This feature will be removed in v6.0.0. See https://github.com/optuna/optuna/releases/tag/v3.0.0. Use suggest_float(..., log=True) instead.\n",
      "  'gb__learning_rate':     trial.suggest_loguniform('learning_rate', 1e-3, 0.3),\n",
      "/tmp/ipykernel_7726/1741534080.py:15: FutureWarning: suggest_uniform has been deprecated in v3.0.0. This feature will be removed in v6.0.0. See https://github.com/optuna/optuna/releases/tag/v3.0.0. Use suggest_float instead.\n",
      "  'gb__l2_regularization': trial.suggest_uniform('l2_regularization', 0.0, 2.0)\n"
     ]
    },
    {
     "name": "stdout",
     "output_type": "stream",
     "text": [
      "[I 2025-07-08 03:50:07,236] Trial 80 finished with value: 0.7109550785506062 and parameters: {'learning_rate': 0.22168372826611255, 'max_leaf_nodes': 124, 'max_depth': 9, 'min_samples_leaf': 34, 'l2_regularization': 1.5373970072622642}. Best is trial 30 with value: 0.7146181722399032.\n"
     ]
    },
    {
     "name": "stderr",
     "output_type": "stream",
     "text": [
      "Best trial: 30. Best value: 0.714618:  82%|████████▏ | 82/100 [08:56<01:28,  4.90s/it]/tmp/ipykernel_7726/1741534080.py:11: FutureWarning: suggest_loguniform has been deprecated in v3.0.0. This feature will be removed in v6.0.0. See https://github.com/optuna/optuna/releases/tag/v3.0.0. Use suggest_float(..., log=True) instead.\n",
      "  'gb__learning_rate':     trial.suggest_loguniform('learning_rate', 1e-3, 0.3),\n",
      "/tmp/ipykernel_7726/1741534080.py:15: FutureWarning: suggest_uniform has been deprecated in v3.0.0. This feature will be removed in v6.0.0. See https://github.com/optuna/optuna/releases/tag/v3.0.0. Use suggest_float instead.\n",
      "  'gb__l2_regularization': trial.suggest_uniform('l2_regularization', 0.0, 2.0)\n"
     ]
    },
    {
     "name": "stdout",
     "output_type": "stream",
     "text": [
      "[I 2025-07-08 03:50:11,440] Trial 81 finished with value: 0.7121481078729743 and parameters: {'learning_rate': 0.15903359174222423, 'max_leaf_nodes': 183, 'max_depth': 4, 'min_samples_leaf': 21, 'l2_regularization': 0.05898255049683637}. Best is trial 30 with value: 0.7146181722399032.\n"
     ]
    },
    {
     "name": "stderr",
     "output_type": "stream",
     "text": [
      "Best trial: 30. Best value: 0.714618:  83%|████████▎ | 83/100 [08:59<01:13,  4.35s/it]/tmp/ipykernel_7726/1741534080.py:11: FutureWarning: suggest_loguniform has been deprecated in v3.0.0. This feature will be removed in v6.0.0. See https://github.com/optuna/optuna/releases/tag/v3.0.0. Use suggest_float(..., log=True) instead.\n",
      "  'gb__learning_rate':     trial.suggest_loguniform('learning_rate', 1e-3, 0.3),\n",
      "/tmp/ipykernel_7726/1741534080.py:15: FutureWarning: suggest_uniform has been deprecated in v3.0.0. This feature will be removed in v6.0.0. See https://github.com/optuna/optuna/releases/tag/v3.0.0. Use suggest_float instead.\n",
      "  'gb__l2_regularization': trial.suggest_uniform('l2_regularization', 0.0, 2.0)\n"
     ]
    },
    {
     "name": "stdout",
     "output_type": "stream",
     "text": [
      "[I 2025-07-08 03:50:14,516] Trial 82 finished with value: 0.7124458651298512 and parameters: {'learning_rate': 0.26210511519647384, 'max_leaf_nodes': 175, 'max_depth': 4, 'min_samples_leaf': 25, 'l2_regularization': 0.1468115420709475}. Best is trial 30 with value: 0.7146181722399032.\n"
     ]
    },
    {
     "name": "stderr",
     "output_type": "stream",
     "text": [
      "Best trial: 83. Best value: 0.715096:  84%|████████▍ | 84/100 [09:04<01:10,  4.41s/it]/tmp/ipykernel_7726/1741534080.py:11: FutureWarning: suggest_loguniform has been deprecated in v3.0.0. This feature will be removed in v6.0.0. See https://github.com/optuna/optuna/releases/tag/v3.0.0. Use suggest_float(..., log=True) instead.\n",
      "  'gb__learning_rate':     trial.suggest_loguniform('learning_rate', 1e-3, 0.3),\n",
      "/tmp/ipykernel_7726/1741534080.py:15: FutureWarning: suggest_uniform has been deprecated in v3.0.0. This feature will be removed in v6.0.0. See https://github.com/optuna/optuna/releases/tag/v3.0.0. Use suggest_float instead.\n",
      "  'gb__l2_regularization': trial.suggest_uniform('l2_regularization', 0.0, 2.0)\n"
     ]
    },
    {
     "name": "stdout",
     "output_type": "stream",
     "text": [
      "[I 2025-07-08 03:50:19,058] Trial 83 finished with value: 0.7150961500692044 and parameters: {'learning_rate': 0.13997227939492704, 'max_leaf_nodes': 160, 'max_depth': 4, 'min_samples_leaf': 16, 'l2_regularization': 0.3132333287791904}. Best is trial 83 with value: 0.7150961500692044.\n"
     ]
    },
    {
     "name": "stderr",
     "output_type": "stream",
     "text": [
      "Best trial: 83. Best value: 0.715096:  85%|████████▌ | 85/100 [09:09<01:08,  4.56s/it]/tmp/ipykernel_7726/1741534080.py:11: FutureWarning: suggest_loguniform has been deprecated in v3.0.0. This feature will be removed in v6.0.0. See https://github.com/optuna/optuna/releases/tag/v3.0.0. Use suggest_float(..., log=True) instead.\n",
      "  'gb__learning_rate':     trial.suggest_loguniform('learning_rate', 1e-3, 0.3),\n",
      "/tmp/ipykernel_7726/1741534080.py:15: FutureWarning: suggest_uniform has been deprecated in v3.0.0. This feature will be removed in v6.0.0. See https://github.com/optuna/optuna/releases/tag/v3.0.0. Use suggest_float instead.\n",
      "  'gb__l2_regularization': trial.suggest_uniform('l2_regularization', 0.0, 2.0)\n"
     ]
    },
    {
     "name": "stdout",
     "output_type": "stream",
     "text": [
      "[I 2025-07-08 03:50:23,979] Trial 84 finished with value: 0.7135410146095772 and parameters: {'learning_rate': 0.13091260214516137, 'max_leaf_nodes': 163, 'max_depth': 4, 'min_samples_leaf': 16, 'l2_regularization': 0.2791505024604453}. Best is trial 83 with value: 0.7150961500692044.\n"
     ]
    },
    {
     "name": "stderr",
     "output_type": "stream",
     "text": [
      "Best trial: 83. Best value: 0.715096:  86%|████████▌ | 86/100 [09:13<01:01,  4.40s/it]/tmp/ipykernel_7726/1741534080.py:11: FutureWarning: suggest_loguniform has been deprecated in v3.0.0. This feature will be removed in v6.0.0. See https://github.com/optuna/optuna/releases/tag/v3.0.0. Use suggest_float(..., log=True) instead.\n",
      "  'gb__learning_rate':     trial.suggest_loguniform('learning_rate', 1e-3, 0.3),\n",
      "/tmp/ipykernel_7726/1741534080.py:15: FutureWarning: suggest_uniform has been deprecated in v3.0.0. This feature will be removed in v6.0.0. See https://github.com/optuna/optuna/releases/tag/v3.0.0. Use suggest_float instead.\n",
      "  'gb__l2_regularization': trial.suggest_uniform('l2_regularization', 0.0, 2.0)\n"
     ]
    },
    {
     "name": "stdout",
     "output_type": "stream",
     "text": [
      "[I 2025-07-08 03:50:28,013] Trial 85 finished with value: 0.7125774210800279 and parameters: {'learning_rate': 0.1770731271432922, 'max_leaf_nodes': 157, 'max_depth': 4, 'min_samples_leaf': 31, 'l2_regularization': 1.4644118558829238}. Best is trial 83 with value: 0.7150961500692044.\n"
     ]
    },
    {
     "name": "stderr",
     "output_type": "stream",
     "text": [
      "Best trial: 83. Best value: 0.715096:  87%|████████▋ | 87/100 [09:20<01:09,  5.31s/it]/tmp/ipykernel_7726/1741534080.py:11: FutureWarning: suggest_loguniform has been deprecated in v3.0.0. This feature will be removed in v6.0.0. See https://github.com/optuna/optuna/releases/tag/v3.0.0. Use suggest_float(..., log=True) instead.\n",
      "  'gb__learning_rate':     trial.suggest_loguniform('learning_rate', 1e-3, 0.3),\n",
      "/tmp/ipykernel_7726/1741534080.py:15: FutureWarning: suggest_uniform has been deprecated in v3.0.0. This feature will be removed in v6.0.0. See https://github.com/optuna/optuna/releases/tag/v3.0.0. Use suggest_float instead.\n",
      "  'gb__l2_regularization': trial.suggest_uniform('l2_regularization', 0.0, 2.0)\n"
     ]
    },
    {
     "name": "stdout",
     "output_type": "stream",
     "text": [
      "[I 2025-07-08 03:50:35,440] Trial 86 finished with value: 0.7127472937195141 and parameters: {'learning_rate': 0.09685309255553161, 'max_leaf_nodes': 196, 'max_depth': 3, 'min_samples_leaf': 25, 'l2_regularization': 1.1702798065917328}. Best is trial 83 with value: 0.7150961500692044.\n"
     ]
    },
    {
     "name": "stderr",
     "output_type": "stream",
     "text": [
      "Best trial: 83. Best value: 0.715096:  88%|████████▊ | 88/100 [09:24<00:57,  4.80s/it]/tmp/ipykernel_7726/1741534080.py:11: FutureWarning: suggest_loguniform has been deprecated in v3.0.0. This feature will be removed in v6.0.0. See https://github.com/optuna/optuna/releases/tag/v3.0.0. Use suggest_float(..., log=True) instead.\n",
      "  'gb__learning_rate':     trial.suggest_loguniform('learning_rate', 1e-3, 0.3),\n",
      "/tmp/ipykernel_7726/1741534080.py:15: FutureWarning: suggest_uniform has been deprecated in v3.0.0. This feature will be removed in v6.0.0. See https://github.com/optuna/optuna/releases/tag/v3.0.0. Use suggest_float instead.\n",
      "  'gb__l2_regularization': trial.suggest_uniform('l2_regularization', 0.0, 2.0)\n"
     ]
    },
    {
     "name": "stdout",
     "output_type": "stream",
     "text": [
      "[I 2025-07-08 03:50:39,064] Trial 87 finished with value: 0.7113449783057055 and parameters: {'learning_rate': 0.14169818163600237, 'max_leaf_nodes': 109, 'max_depth': 5, 'min_samples_leaf': 21, 'l2_regularization': 0.3899225463214862}. Best is trial 83 with value: 0.7150961500692044.\n"
     ]
    },
    {
     "name": "stderr",
     "output_type": "stream",
     "text": [
      "Best trial: 83. Best value: 0.715096:  89%|████████▉ | 89/100 [09:28<00:51,  4.69s/it]/tmp/ipykernel_7726/1741534080.py:11: FutureWarning: suggest_loguniform has been deprecated in v3.0.0. This feature will be removed in v6.0.0. See https://github.com/optuna/optuna/releases/tag/v3.0.0. Use suggest_float(..., log=True) instead.\n",
      "  'gb__learning_rate':     trial.suggest_loguniform('learning_rate', 1e-3, 0.3),\n",
      "/tmp/ipykernel_7726/1741534080.py:15: FutureWarning: suggest_uniform has been deprecated in v3.0.0. This feature will be removed in v6.0.0. See https://github.com/optuna/optuna/releases/tag/v3.0.0. Use suggest_float instead.\n",
      "  'gb__l2_regularization': trial.suggest_uniform('l2_regularization', 0.0, 2.0)\n"
     ]
    },
    {
     "name": "stdout",
     "output_type": "stream",
     "text": [
      "[I 2025-07-08 03:50:43,483] Trial 88 finished with value: 0.7142755243713487 and parameters: {'learning_rate': 0.23265111149026352, 'max_leaf_nodes': 218, 'max_depth': 3, 'min_samples_leaf': 10, 'l2_regularization': 1.8760115626094191}. Best is trial 83 with value: 0.7150961500692044.\n"
     ]
    },
    {
     "name": "stderr",
     "output_type": "stream",
     "text": [
      "Best trial: 83. Best value: 0.715096:  90%|█████████ | 90/100 [09:34<00:48,  4.88s/it]/tmp/ipykernel_7726/1741534080.py:11: FutureWarning: suggest_loguniform has been deprecated in v3.0.0. This feature will be removed in v6.0.0. See https://github.com/optuna/optuna/releases/tag/v3.0.0. Use suggest_float(..., log=True) instead.\n",
      "  'gb__learning_rate':     trial.suggest_loguniform('learning_rate', 1e-3, 0.3),\n",
      "/tmp/ipykernel_7726/1741534080.py:15: FutureWarning: suggest_uniform has been deprecated in v3.0.0. This feature will be removed in v6.0.0. See https://github.com/optuna/optuna/releases/tag/v3.0.0. Use suggest_float instead.\n",
      "  'gb__l2_regularization': trial.suggest_uniform('l2_regularization', 0.0, 2.0)\n"
     ]
    },
    {
     "name": "stdout",
     "output_type": "stream",
     "text": [
      "[I 2025-07-08 03:50:48,816] Trial 89 finished with value: 0.7133043797424621 and parameters: {'learning_rate': 0.21483618785221092, 'max_leaf_nodes': 229, 'max_depth': 2, 'min_samples_leaf': 44, 'l2_regularization': 1.9979319976287773}. Best is trial 83 with value: 0.7150961500692044.\n"
     ]
    },
    {
     "name": "stderr",
     "output_type": "stream",
     "text": [
      "Best trial: 83. Best value: 0.715096:  91%|█████████ | 91/100 [09:37<00:39,  4.41s/it]/tmp/ipykernel_7726/1741534080.py:11: FutureWarning: suggest_loguniform has been deprecated in v3.0.0. This feature will be removed in v6.0.0. See https://github.com/optuna/optuna/releases/tag/v3.0.0. Use suggest_float(..., log=True) instead.\n",
      "  'gb__learning_rate':     trial.suggest_loguniform('learning_rate', 1e-3, 0.3),\n",
      "/tmp/ipykernel_7726/1741534080.py:15: FutureWarning: suggest_uniform has been deprecated in v3.0.0. This feature will be removed in v6.0.0. See https://github.com/optuna/optuna/releases/tag/v3.0.0. Use suggest_float instead.\n",
      "  'gb__l2_regularization': trial.suggest_uniform('l2_regularization', 0.0, 2.0)\n"
     ]
    },
    {
     "name": "stdout",
     "output_type": "stream",
     "text": [
      "[I 2025-07-08 03:50:52,109] Trial 90 finished with value: 0.7130874118254574 and parameters: {'learning_rate': 0.298897831278707, 'max_leaf_nodes': 140, 'max_depth': 3, 'min_samples_leaf': 14, 'l2_regularization': 1.9326366623908926}. Best is trial 83 with value: 0.7150961500692044.\n"
     ]
    },
    {
     "name": "stderr",
     "output_type": "stream",
     "text": [
      "Best trial: 83. Best value: 0.715096:  92%|█████████▏| 92/100 [09:42<00:36,  4.57s/it]/tmp/ipykernel_7726/1741534080.py:11: FutureWarning: suggest_loguniform has been deprecated in v3.0.0. This feature will be removed in v6.0.0. See https://github.com/optuna/optuna/releases/tag/v3.0.0. Use suggest_float(..., log=True) instead.\n",
      "  'gb__learning_rate':     trial.suggest_loguniform('learning_rate', 1e-3, 0.3),\n",
      "/tmp/ipykernel_7726/1741534080.py:15: FutureWarning: suggest_uniform has been deprecated in v3.0.0. This feature will be removed in v6.0.0. See https://github.com/optuna/optuna/releases/tag/v3.0.0. Use suggest_float instead.\n",
      "  'gb__l2_regularization': trial.suggest_uniform('l2_regularization', 0.0, 2.0)\n"
     ]
    },
    {
     "name": "stdout",
     "output_type": "stream",
     "text": [
      "[I 2025-07-08 03:50:57,051] Trial 91 finished with value: 0.7125563087831499 and parameters: {'learning_rate': 0.18144081969733394, 'max_leaf_nodes': 179, 'max_depth': 3, 'min_samples_leaf': 10, 'l2_regularization': 1.869933136620545}. Best is trial 83 with value: 0.7150961500692044.\n"
     ]
    },
    {
     "name": "stderr",
     "output_type": "stream",
     "text": [
      "Best trial: 83. Best value: 0.715096:  93%|█████████▎| 93/100 [09:46<00:30,  4.32s/it]/tmp/ipykernel_7726/1741534080.py:11: FutureWarning: suggest_loguniform has been deprecated in v3.0.0. This feature will be removed in v6.0.0. See https://github.com/optuna/optuna/releases/tag/v3.0.0. Use suggest_float(..., log=True) instead.\n",
      "  'gb__learning_rate':     trial.suggest_loguniform('learning_rate', 1e-3, 0.3),\n",
      "/tmp/ipykernel_7726/1741534080.py:15: FutureWarning: suggest_uniform has been deprecated in v3.0.0. This feature will be removed in v6.0.0. See https://github.com/optuna/optuna/releases/tag/v3.0.0. Use suggest_float instead.\n",
      "  'gb__l2_regularization': trial.suggest_uniform('l2_regularization', 0.0, 2.0)\n"
     ]
    },
    {
     "name": "stdout",
     "output_type": "stream",
     "text": [
      "[I 2025-07-08 03:51:00,804] Trial 92 finished with value: 0.7132175852690444 and parameters: {'learning_rate': 0.25376583091489896, 'max_leaf_nodes': 218, 'max_depth': 3, 'min_samples_leaf': 19, 'l2_regularization': 1.7788401948070836}. Best is trial 83 with value: 0.7150961500692044.\n"
     ]
    },
    {
     "name": "stderr",
     "output_type": "stream",
     "text": [
      "Best trial: 83. Best value: 0.715096:  94%|█████████▍| 94/100 [09:49<00:24,  4.02s/it]/tmp/ipykernel_7726/1741534080.py:11: FutureWarning: suggest_loguniform has been deprecated in v3.0.0. This feature will be removed in v6.0.0. See https://github.com/optuna/optuna/releases/tag/v3.0.0. Use suggest_float(..., log=True) instead.\n",
      "  'gb__learning_rate':     trial.suggest_loguniform('learning_rate', 1e-3, 0.3),\n",
      "/tmp/ipykernel_7726/1741534080.py:15: FutureWarning: suggest_uniform has been deprecated in v3.0.0. This feature will be removed in v6.0.0. See https://github.com/optuna/optuna/releases/tag/v3.0.0. Use suggest_float instead.\n",
      "  'gb__l2_regularization': trial.suggest_uniform('l2_regularization', 0.0, 2.0)\n"
     ]
    },
    {
     "name": "stdout",
     "output_type": "stream",
     "text": [
      "[I 2025-07-08 03:51:04,128] Trial 93 finished with value: 0.7128546654652851 and parameters: {'learning_rate': 0.22067468582302605, 'max_leaf_nodes': 188, 'max_depth': 4, 'min_samples_leaf': 30, 'l2_regularization': 0.01209375272628635}. Best is trial 83 with value: 0.7150961500692044.\n"
     ]
    },
    {
     "name": "stderr",
     "output_type": "stream",
     "text": [
      "Best trial: 83. Best value: 0.715096:  95%|█████████▌| 95/100 [09:55<00:22,  4.56s/it]/tmp/ipykernel_7726/1741534080.py:11: FutureWarning: suggest_loguniform has been deprecated in v3.0.0. This feature will be removed in v6.0.0. See https://github.com/optuna/optuna/releases/tag/v3.0.0. Use suggest_float(..., log=True) instead.\n",
      "  'gb__learning_rate':     trial.suggest_loguniform('learning_rate', 1e-3, 0.3),\n",
      "/tmp/ipykernel_7726/1741534080.py:15: FutureWarning: suggest_uniform has been deprecated in v3.0.0. This feature will be removed in v6.0.0. See https://github.com/optuna/optuna/releases/tag/v3.0.0. Use suggest_float instead.\n",
      "  'gb__l2_regularization': trial.suggest_uniform('l2_regularization', 0.0, 2.0)\n"
     ]
    },
    {
     "name": "stdout",
     "output_type": "stream",
     "text": [
      "[I 2025-07-08 03:51:09,939] Trial 94 finished with value: 0.7131657187526416 and parameters: {'learning_rate': 0.16290478641446332, 'max_leaf_nodes': 148, 'max_depth': 2, 'min_samples_leaf': 36, 'l2_regularization': 1.5728249466853306}. Best is trial 83 with value: 0.7150961500692044.\n"
     ]
    },
    {
     "name": "stderr",
     "output_type": "stream",
     "text": [
      "Best trial: 83. Best value: 0.715096:  96%|█████████▌| 96/100 [09:59<00:18,  4.55s/it]/tmp/ipykernel_7726/1741534080.py:11: FutureWarning: suggest_loguniform has been deprecated in v3.0.0. This feature will be removed in v6.0.0. See https://github.com/optuna/optuna/releases/tag/v3.0.0. Use suggest_float(..., log=True) instead.\n",
      "  'gb__learning_rate':     trial.suggest_loguniform('learning_rate', 1e-3, 0.3),\n",
      "/tmp/ipykernel_7726/1741534080.py:15: FutureWarning: suggest_uniform has been deprecated in v3.0.0. This feature will be removed in v6.0.0. See https://github.com/optuna/optuna/releases/tag/v3.0.0. Use suggest_float instead.\n",
      "  'gb__l2_regularization': trial.suggest_uniform('l2_regularization', 0.0, 2.0)\n"
     ]
    },
    {
     "name": "stdout",
     "output_type": "stream",
     "text": [
      "[I 2025-07-08 03:51:14,481] Trial 95 finished with value: 0.7138773834647386 and parameters: {'learning_rate': 0.20209392913884405, 'max_leaf_nodes': 207, 'max_depth': 3, 'min_samples_leaf': 15, 'l2_regularization': 1.6871242089819791}. Best is trial 83 with value: 0.7150961500692044.\n"
     ]
    },
    {
     "name": "stderr",
     "output_type": "stream",
     "text": [
      "Best trial: 83. Best value: 0.715096:  97%|█████████▋| 97/100 [10:06<00:15,  5.16s/it]/tmp/ipykernel_7726/1741534080.py:11: FutureWarning: suggest_loguniform has been deprecated in v3.0.0. This feature will be removed in v6.0.0. See https://github.com/optuna/optuna/releases/tag/v3.0.0. Use suggest_float(..., log=True) instead.\n",
      "  'gb__learning_rate':     trial.suggest_loguniform('learning_rate', 1e-3, 0.3),\n",
      "/tmp/ipykernel_7726/1741534080.py:15: FutureWarning: suggest_uniform has been deprecated in v3.0.0. This feature will be removed in v6.0.0. See https://github.com/optuna/optuna/releases/tag/v3.0.0. Use suggest_float instead.\n",
      "  'gb__l2_regularization': trial.suggest_uniform('l2_regularization', 0.0, 2.0)\n"
     ]
    },
    {
     "name": "stdout",
     "output_type": "stream",
     "text": [
      "[I 2025-07-08 03:51:21,049] Trial 96 finished with value: 0.7123341928110828 and parameters: {'learning_rate': 0.10483246396442242, 'max_leaf_nodes': 215, 'max_depth': 3, 'min_samples_leaf': 16, 'l2_regularization': 1.6814876001966574}. Best is trial 83 with value: 0.7150961500692044.\n"
     ]
    },
    {
     "name": "stderr",
     "output_type": "stream",
     "text": [
      "Best trial: 83. Best value: 0.715096:  98%|█████████▊| 98/100 [10:11<00:10,  5.10s/it]/tmp/ipykernel_7726/1741534080.py:11: FutureWarning: suggest_loguniform has been deprecated in v3.0.0. This feature will be removed in v6.0.0. See https://github.com/optuna/optuna/releases/tag/v3.0.0. Use suggest_float(..., log=True) instead.\n",
      "  'gb__learning_rate':     trial.suggest_loguniform('learning_rate', 1e-3, 0.3),\n",
      "/tmp/ipykernel_7726/1741534080.py:15: FutureWarning: suggest_uniform has been deprecated in v3.0.0. This feature will be removed in v6.0.0. See https://github.com/optuna/optuna/releases/tag/v3.0.0. Use suggest_float instead.\n",
      "  'gb__l2_regularization': trial.suggest_uniform('l2_regularization', 0.0, 2.0)\n"
     ]
    },
    {
     "name": "stdout",
     "output_type": "stream",
     "text": [
      "[I 2025-07-08 03:51:26,000] Trial 97 finished with value: 0.7133046064098852 and parameters: {'learning_rate': 0.1869863334376088, 'max_leaf_nodes': 244, 'max_depth': 3, 'min_samples_leaf': 50, 'l2_regularization': 1.8149650444956769}. Best is trial 83 with value: 0.7150961500692044.\n"
     ]
    },
    {
     "name": "stderr",
     "output_type": "stream",
     "text": [
      "Best trial: 83. Best value: 0.715096:  99%|█████████▉| 99/100 [10:18<00:05,  5.63s/it]/tmp/ipykernel_7726/1741534080.py:11: FutureWarning: suggest_loguniform has been deprecated in v3.0.0. This feature will be removed in v6.0.0. See https://github.com/optuna/optuna/releases/tag/v3.0.0. Use suggest_float(..., log=True) instead.\n",
      "  'gb__learning_rate':     trial.suggest_loguniform('learning_rate', 1e-3, 0.3),\n",
      "/tmp/ipykernel_7726/1741534080.py:15: FutureWarning: suggest_uniform has been deprecated in v3.0.0. This feature will be removed in v6.0.0. See https://github.com/optuna/optuna/releases/tag/v3.0.0. Use suggest_float instead.\n",
      "  'gb__l2_regularization': trial.suggest_uniform('l2_regularization', 0.0, 2.0)\n"
     ]
    },
    {
     "name": "stdout",
     "output_type": "stream",
     "text": [
      "[I 2025-07-08 03:51:32,885] Trial 98 finished with value: 0.71397709838568 and parameters: {'learning_rate': 0.1334492978124086, 'max_leaf_nodes': 200, 'max_depth': 2, 'min_samples_leaf': 22, 'l2_regularization': 1.7562493590504484}. Best is trial 83 with value: 0.7150961500692044.\n"
     ]
    },
    {
     "name": "stderr",
     "output_type": "stream",
     "text": [
      "Best trial: 83. Best value: 0.715096: 100%|██████████| 100/100 [10:24<00:00,  6.25s/it]"
     ]
    },
    {
     "name": "stdout",
     "output_type": "stream",
     "text": [
      "[I 2025-07-08 03:51:39,571] Trial 99 finished with value: 0.7128454243442167 and parameters: {'learning_rate': 0.13974049803506472, 'max_leaf_nodes': 195, 'max_depth': 2, 'min_samples_leaf': 22, 'l2_regularization': 1.6165028214551105}. Best is trial 83 with value: 0.7150961500692044.\n"
     ]
    },
    {
     "name": "stderr",
     "output_type": "stream",
     "text": [
      "\n"
     ]
    },
    {
     "data": {
      "text/html": [
       "<div>\n",
       "<style scoped>\n",
       "    .dataframe tbody tr th:only-of-type {\n",
       "        vertical-align: middle;\n",
       "    }\n",
       "\n",
       "    .dataframe tbody tr th {\n",
       "        vertical-align: top;\n",
       "    }\n",
       "\n",
       "    .dataframe thead th {\n",
       "        text-align: right;\n",
       "    }\n",
       "</style>\n",
       "<table border=\"1\" class=\"dataframe\">\n",
       "  <thead>\n",
       "    <tr style=\"text-align: right;\">\n",
       "      <th></th>\n",
       "      <th>trial_number</th>\n",
       "      <th>mean_f1</th>\n",
       "      <th>learning_rate</th>\n",
       "      <th>max_leaf_nodes</th>\n",
       "      <th>max_depth</th>\n",
       "      <th>min_samples_leaf</th>\n",
       "      <th>l2_regularization</th>\n",
       "    </tr>\n",
       "  </thead>\n",
       "  <tbody>\n",
       "    <tr>\n",
       "      <th>83</th>\n",
       "      <td>83</td>\n",
       "      <td>0.715096</td>\n",
       "      <td>0.139972</td>\n",
       "      <td>160</td>\n",
       "      <td>4</td>\n",
       "      <td>16</td>\n",
       "      <td>0.313233</td>\n",
       "    </tr>\n",
       "    <tr>\n",
       "      <th>30</th>\n",
       "      <td>30</td>\n",
       "      <td>0.714618</td>\n",
       "      <td>0.225785</td>\n",
       "      <td>172</td>\n",
       "      <td>3</td>\n",
       "      <td>38</td>\n",
       "      <td>1.539161</td>\n",
       "    </tr>\n",
       "    <tr>\n",
       "      <th>31</th>\n",
       "      <td>31</td>\n",
       "      <td>0.714441</td>\n",
       "      <td>0.289079</td>\n",
       "      <td>172</td>\n",
       "      <td>3</td>\n",
       "      <td>33</td>\n",
       "      <td>1.532276</td>\n",
       "    </tr>\n",
       "    <tr>\n",
       "      <th>88</th>\n",
       "      <td>88</td>\n",
       "      <td>0.714276</td>\n",
       "      <td>0.232651</td>\n",
       "      <td>218</td>\n",
       "      <td>3</td>\n",
       "      <td>10</td>\n",
       "      <td>1.876012</td>\n",
       "    </tr>\n",
       "    <tr>\n",
       "      <th>73</th>\n",
       "      <td>73</td>\n",
       "      <td>0.714182</td>\n",
       "      <td>0.211761</td>\n",
       "      <td>215</td>\n",
       "      <td>3</td>\n",
       "      <td>12</td>\n",
       "      <td>0.128171</td>\n",
       "    </tr>\n",
       "  </tbody>\n",
       "</table>\n",
       "</div>"
      ],
      "text/plain": [
       "    trial_number   mean_f1  learning_rate  max_leaf_nodes  max_depth  \\\n",
       "83            83  0.715096       0.139972             160          4   \n",
       "30            30  0.714618       0.225785             172          3   \n",
       "31            31  0.714441       0.289079             172          3   \n",
       "88            88  0.714276       0.232651             218          3   \n",
       "73            73  0.714182       0.211761             215          3   \n",
       "\n",
       "    min_samples_leaf  l2_regularization  \n",
       "83                16           0.313233  \n",
       "30                38           1.539161  \n",
       "31                33           1.532276  \n",
       "88                10           1.876012  \n",
       "73                12           0.128171  "
      ]
     },
     "metadata": {},
     "output_type": "display_data"
    },
    {
     "name": "stdout",
     "output_type": "stream",
     "text": [
      "Best F1 from Optuna (a3): 0.7151\n"
     ]
    }
   ],
   "source": [
    "import optuna\n",
    "from sklearn.model_selection import StratifiedKFold, cross_val_score\n",
    "import pandas as pd\n",
    "\n",
    "# 1. CV object\n",
    "cv = StratifiedKFold(n_splits=5, shuffle=True, random_state=random_seed)\n",
    "\n",
    "# 2. Objective\n",
    "def objective(trial):\n",
    "    params = {\n",
    "        'gb__learning_rate':     trial.suggest_loguniform('learning_rate', 1e-3, 0.3),\n",
    "        'gb__max_leaf_nodes':    trial.suggest_int('max_leaf_nodes', 16, 256),\n",
    "        'gb__max_depth':         trial.suggest_int('max_depth', 2, 10),\n",
    "        'gb__min_samples_leaf':  trial.suggest_int('min_samples_leaf', 10, 200),\n",
    "        'gb__l2_regularization': trial.suggest_uniform('l2_regularization', 0.0, 2.0)\n",
    "    }\n",
    "    pipelined_model.set_params(**params)\n",
    "    scores = cross_val_score(pipelined_model, X, y, scoring='f1', cv=cv, n_jobs=-1)\n",
    "    return scores.mean()\n",
    "\n",
    "# 3. Run study\n",
    "study = optuna.create_study(\n",
    "    direction='maximize',\n",
    "    sampler=optuna.samplers.TPESampler(seed=random_seed),\n",
    "    pruner=optuna.pruners.MedianPruner()\n",
    ")\n",
    "study.optimize(objective, n_trials=100, n_jobs=1, show_progress_bar=True)\n",
    "\n",
    "# 4. Manually build a DataFrame of trials\n",
    "records = []\n",
    "for t in study.trials:\n",
    "    records.append({\n",
    "        'trial_number':      t.number,\n",
    "        'mean_f1':           t.value,\n",
    "        'learning_rate':     t.params['learning_rate'],\n",
    "        'max_leaf_nodes':    t.params['max_leaf_nodes'],\n",
    "        'max_depth':         t.params['max_depth'],\n",
    "        'min_samples_leaf':  t.params['min_samples_leaf'],\n",
    "        'l2_regularization': t.params['l2_regularization']\n",
    "    })\n",
    "trials_df = pd.DataFrame(records)\n",
    "\n",
    "# Display the top 5 trials\n",
    "top5 = trials_df.sort_values('mean_f1', ascending=False).head(5)\n",
    "display(top5)\n",
    "\n",
    "# 5. Assign the graded answer\n",
    "a3 = round(study.best_value, 4)\n",
    "print(f\"Best F1 from Optuna (a3): {a3}\")\n"
   ]
  },
  {
   "cell_type": "markdown",
   "metadata": {},
   "source": [
    "### Problem 3 Graded Answer\n",
    "\n",
    "Set `a3` to the mean F1 score of the best model found. "
   ]
  },
  {
   "cell_type": "code",
   "execution_count": 23,
   "metadata": {},
   "outputs": [],
   "source": [
    " # Your answer here\n",
    "\n",
    "a3 = round(study.best_value, 4)                # replace 0 with your answer, may copy from the displayed results"
   ]
  },
  {
   "cell_type": "code",
   "execution_count": 24,
   "metadata": {},
   "outputs": [
    {
     "name": "stdout",
     "output_type": "stream",
     "text": [
      "a3 = 0.7151\n"
     ]
    }
   ],
   "source": [
    "# DO NOT change this cell in any way\n",
    "\n",
    "print(f'a3 = {a3:.4f}')"
   ]
  },
  {
   "cell_type": "markdown",
   "metadata": {},
   "source": [
    "## Problem 4: Final Model Evaluation on Test Set\n",
    "\n",
    "In this problem, you will take the best hyperparameter configuration you found in your earlier experiments (Randomized Search or Optuna) and fully evaluate the resulting model on the test set.\n",
    "\n",
    "**Background:**\n",
    "When performing hyperparameter tuning, we typically optimize for a single metric (e.g., F1). However, before deployment, it is essential to check **all relevant metrics** on the final test set to understand the model’s behavior in a balanced way.\n",
    "\n",
    "**Instructions:**\n",
    "\n",
    "1. Take the best hyperparameters you found in Problems 2 or 3 and apply them to your `pipelined_model`.\n",
    "2. Re-train this final tuned model on the **entire training set** (not just the folds).\n",
    "3. Evaluate the final model on the heldout **test set**, reporting the following metrics:\n",
    "\n",
    "   * Precision\n",
    "   * Recall\n",
    "   * F1 score\n",
    "   * Balanced accuracy\n",
    "4. Use `classification_report` **on the test set** to print precision, recall, and F1 score, and use `balanced_accuracy_score` separately to calculate and print balanced accuracy.\n",
    "5. Answer the graded questions.\n",
    "\n",
    "**Note:** We evaluate the metrics on the test set because it was never seen during training or hyperparameter tuning. This gives us an unbiased estimate of how the model will perform on truly unseen data. Evaluating on the training set would be misleading, because the model has already learned from that data and could appear artificially good.\n"
   ]
  },
  {
   "cell_type": "code",
   "execution_count": 29,
   "metadata": {},
   "outputs": [
    {
     "name": "stdout",
     "output_type": "stream",
     "text": [
      "Classification Report:\n",
      "               precision    recall  f1-score   support\n",
      "\n",
      "           0       0.95      0.82      0.88      7431\n",
      "           1       0.61      0.87      0.72      2338\n",
      "\n",
      "    accuracy                           0.84      9769\n",
      "   macro avg       0.78      0.85      0.80      9769\n",
      "weighted avg       0.87      0.84      0.84      9769\n",
      "\n",
      "Balanced Accuracy: 0.8470\n",
      "a4_precision: 0.6092\n",
      "a4_recall: 0.8695\n",
      "a4_f1: 0.7165\n",
      "a4_balanced_accuracy: 0.847\n"
     ]
    }
   ],
   "source": [
    "# Your code here\n",
    "\n",
    "from sklearn.metrics import classification_report, balanced_accuracy_score, precision_score, recall_score, f1_score\n",
    "\n",
    "# 1. Retrieve your best hyperparameters (from Optuna study or RandomizedSearchCV)\n",
    "#    If using Optuna:\n",
    "best_params = study.best_trial.params\n",
    "#    If instead you want to use RandomizedSearchCV, you could do:\n",
    "# best_params = {k.replace('gb__', ''): v for k, v in rs.best_params_.items()}\n",
    "\n",
    "# 2. Prefix them to match your pipeline step name\n",
    "prefixed_params = {f'gb__{k}': v for k, v in best_params.items()}\n",
    "\n",
    "# 3. Apply them to your pipeline\n",
    "pipelined_model.set_params(**prefixed_params)\n",
    "\n",
    "# 4. Retrain on the full training set\n",
    "#    (assuming you have X_train, X_test, y_train, y_test already defined)\n",
    "pipelined_model.fit(X_train, y_train)\n",
    "\n",
    "# 5. Evaluate on the test set\n",
    "y_pred = pipelined_model.predict(X_test)\n",
    "\n",
    "# 6. Compute all metrics\n",
    "precision    = precision_score(y_test, y_pred)\n",
    "recall       = recall_score(y_test, y_pred)\n",
    "f1           = f1_score(y_test, y_pred)\n",
    "balanced_acc = balanced_accuracy_score(y_test, y_pred)\n",
    "\n",
    "# 7. Print a classification report plus balanced accuracy\n",
    "print(\"Classification Report:\\n\", classification_report(y_test, y_pred))\n",
    "print(f\"Balanced Accuracy: {balanced_acc:.4f}\")\n",
    "\n",
    "# 8. Assign your graded-question variables\n",
    "a4_precision         = round(precision, 4)\n",
    "a4_recall            = round(recall, 4)\n",
    "a4_f1                = round(f1, 4)\n",
    "a4_balanced_accuracy = round(balanced_acc, 4)\n",
    "\n",
    "# 3. Get full classification report as dict\n",
    "report = classification_report(y_test, y_pred, output_dict=True)\n",
    "\n",
    "# Example prints of the rounded values:\n",
    "print(f\"a4_precision: {a4_precision}\")\n",
    "print(f\"a4_recall: {a4_recall}\")\n",
    "print(f\"a4_f1: {a4_f1}\")\n",
    "print(f\"a4_balanced_accuracy: {a4_balanced_accuracy}\")\n",
    "\n"
   ]
  },
  {
   "cell_type": "markdown",
   "metadata": {},
   "source": [
    "### Problem 4 Graded Questions\n",
    "\n",
    "- Set `a4a` to the balanced accuracy score of the best model.\n",
    "- Set `a4b` to the macro average precision of this model.\n",
    "- Set `a4c` to the macro average recall score of the this model.\n",
    "\n",
    "**Note:** Macro average takes the mean of each class’s precision/recall without considering how many samples each class has, which is appropriate for a balanced evaluation."
   ]
  },
  {
   "cell_type": "code",
   "execution_count": 30,
   "metadata": {},
   "outputs": [],
   "source": [
    " # Your answer here\n",
    "\n",
    "a4a = balanced_accuracy_score(y_test, y_pred)                # replace 0 with your answer, use variable or expression from above"
   ]
  },
  {
   "cell_type": "code",
   "execution_count": 27,
   "metadata": {},
   "outputs": [
    {
     "name": "stdout",
     "output_type": "stream",
     "text": [
      "a4a = 0.8470\n"
     ]
    }
   ],
   "source": [
    "# DO NOT change this cell in any way\n",
    "\n",
    "print(f'a4a = {a4a:.4f}')"
   ]
  },
  {
   "cell_type": "code",
   "execution_count": 31,
   "metadata": {},
   "outputs": [],
   "source": [
    " # Your answer here\n",
    "\n",
    "a4b = report['macro avg']['precision']                     # replace 0 with your answer, may copy from the displayed results"
   ]
  },
  {
   "cell_type": "code",
   "execution_count": 32,
   "metadata": {},
   "outputs": [
    {
     "name": "stdout",
     "output_type": "stream",
     "text": [
      "a4b = 0.7809\n"
     ]
    }
   ],
   "source": [
    "# DO NOT change this cell in any way\n",
    "\n",
    "print(f'a4b = {a4b:.4f}')"
   ]
  },
  {
   "cell_type": "code",
   "execution_count": 33,
   "metadata": {},
   "outputs": [],
   "source": [
    " # Your answer here\n",
    "\n",
    "a4c = report['macro avg']['recall']                    # replace 0 with your answer, may copy from the displayed results"
   ]
  },
  {
   "cell_type": "code",
   "execution_count": 34,
   "metadata": {},
   "outputs": [
    {
     "name": "stdout",
     "output_type": "stream",
     "text": [
      "a4c = 0.8470\n"
     ]
    }
   ],
   "source": [
    "# DO NOT change this cell in any way\n",
    "\n",
    "print(f'a4c = {a4c:.4f}')"
   ]
  },
  {
   "cell_type": "markdown",
   "metadata": {},
   "source": [
    "## Problem 5: Understanding Precision, Recall, F1, and Balanced Accuracy\n",
    "\n",
    "**Tutorial**\n",
    "\n",
    "In binary classification, you will often evaluate these key metrics:\n",
    "\n",
    "* **Precision**: *Of all the positive predictions the model made, how many were actually correct?*\n",
    "\n",
    "  * High precision = few false positives\n",
    "  * Low precision = many false positives\n",
    "\n",
    "* **Recall**: *Of all the actual positive cases, how many did the model correctly identify?*\n",
    "\n",
    "  * High recall = few false negatives\n",
    "  * Low recall = many false negatives\n",
    "\n",
    "* **F1 score**: The harmonic mean of precision and recall, which balances them in a single measure.\n",
    "\n",
    "  * F1 is **highest** when precision and recall are both high and similar in value.\n",
    "  * If precision and recall are unbalanced, F1 will drop to reflect that imbalance.\n",
    "\n",
    "* **Balanced accuracy**: The average of recall across both classes (positive and negative).\n",
    "\n",
    "  * It ensures the classifier is performing reasonably well on *both* groups, correcting for class imbalance.\n",
    "  * Balanced accuracy is especially important if the classes are very unequal in size.\n",
    "\n",
    "**Typical trade-offs to remember:**\n",
    "\n",
    "* **Higher recall, lower precision**: the model finds most true positives but also mislabels some negatives as positives\n",
    "* **Higher precision, lower recall**: the model is strict about positive predictions, but misses some true positives\n",
    "* **Balanced precision and recall (good F1)**: a practical compromise\n",
    "* **Balanced accuracy**: checks fairness across both classes"
   ]
  },
  {
   "cell_type": "markdown",
   "metadata": {},
   "source": [
    "###  Problem 5 Graded Question (multiple choice)\n",
    "\n",
    "A bank uses your model to identify customers earning over $50K for a premium product invitation. Based on your final test set evaluation, including macro-averaged precision and recall, which of the following best describes what might happen?\n",
    "\n",
    "(1) The bank will miss some eligible high-income customers, but will avoid marketing mistakes by sending invitations only to those it is  confident about.\n",
    "\n",
    "(2) The bank will successfully reach most high-income customers, but will also waste resources sending invitations to some low-income customers.\n",
    "\n",
    "(3) The bank will perfectly identify all high-income and low-income customers, resulting in no wasted invitations and no missed opportunities.\n"
   ]
  },
  {
   "cell_type": "code",
   "execution_count": 35,
   "metadata": {},
   "outputs": [],
   "source": [
    " # Your answer here\n",
    "\n",
    "a5 = 1                     # replace 0 with one of 1, 2, or 3"
   ]
  },
  {
   "cell_type": "code",
   "execution_count": 36,
   "metadata": {},
   "outputs": [
    {
     "name": "stdout",
     "output_type": "stream",
     "text": [
      "a5 = 1\n"
     ]
    }
   ],
   "source": [
    "# DO NOT change this cell in any way\n",
    "\n",
    "print(f'a5 = {a5}')"
   ]
  },
  {
   "cell_type": "markdown",
   "metadata": {},
   "source": [
    "### Appendix One: Feature Engineering\n",
    "\n",
    "Here are some practical feature-engineering tweaks worth considering (beyond simply ordinal-encoding the categoricals)\n",
    "\n",
    "| Feature(s)                                                           | Why the tweak can help                                                                                                                                                     | How to do it (quick version)                                                                                                                                                    | Keep / drop?      |\n",
    "| -------------------------------------------------------------------- | -------------------------------------------------------------------------------------------------------------------------------------------------------------------------- | ------------------------------------------------------------------------------------------------------------------------------------------------------------------------------- | ----------------- |\n",
    "| **`fnlwgt`**                                                         | Survey sampling weight, not a predictor. Leaving it in often lets the model “cheat.”                                                                                       | `df = df.drop(columns=[\"fnlwgt\"])`                                                                                                                                              | **Drop**          |\n",
    "| **`education` *vs.* `education-num`**                                | They encode the **same** information twice (categorical label and its ordinal rank). Keeping both is redundant and can cause leakage of a perfectly predictive feature.    | Usually keep **only one**. For tree models `education-num` is simplest: `df = df.drop(columns=[\"education\"])`                                                                   | **Drop one**      |\n",
    "| **`capital-gain`, `capital-loss`**                                   | Highly skewed; most values are zero with a long upper tail. The sign (gain vs. loss) matters, but treating them separately wastes a feature slot.                          | 1) Combine: `df[\"capital_net\"] = df[\"capital-gain\"] - df[\"capital-loss\"]`; 2) Log-transform to reduce skew: `df[\"capital_net_log\"] = np.log1p(df[\"capital_net\"].clip(lower=0))` | Replace originals |\n",
    "| **`age`, `hours-per-week`**                                          | Continuous but with natural plateaus—trees handle splits fine, yet log or square-root scaling can soften extreme values; bucketing makes partial-dependence plots clearer. | Simple bucket: `df[\"age_bin\"] = pd.cut(df[\"age\"], bins=[16,25,35,45,55,65,90])` (optional)                                                                                      | Optional          |\n",
    "| **Missing categories** (`workclass`, `occupation`, `native-country`) | HGB handles `-1`/`-2` codes fine, but you may want *explicit* “Missing” bucket for interpretability.                                                                       | Use `encoded_missing_value=-2` during encoding.                                                                                                            | Keep as is        |\n",
    "| **Rare categories in `native-country`**                              | Hundreds of low-frequency countries dilute signal; grouping boosts stability.                                                                                              | Map infrequent categories to “Other”:                                                                                                                                           |                   |\n",
    "\n",
    "\n",
    "#### Minimum set of tweaks (good baseline, low effort)\n",
    "\n",
    "1. **Drop `fnlwgt`.**  \n",
    "2. **Keep `education-num`, drop `education`.**  \n",
    "3. **Combine `capital-gain` and `capital-loss` into `capital_net`** (optionally add a log-scaled version).  \n",
    "4. Leave other numeric/categorical features as is; your histogram-GBDT will cope.\n",
    "\n",
    "\n"
   ]
  }
 ],
 "metadata": {
  "kernelspec": {
   "display_name": "Python 3",
   "language": "python",
   "name": "python3"
  },
  "language_info": {
   "codemirror_mode": {
    "name": "ipython",
    "version": 3
   },
   "file_extension": ".py",
   "mimetype": "text/x-python",
   "name": "python",
   "nbconvert_exporter": "python",
   "pygments_lexer": "ipython3",
   "version": "3.12.1"
  }
 },
 "nbformat": 4,
 "nbformat_minor": 4
}
